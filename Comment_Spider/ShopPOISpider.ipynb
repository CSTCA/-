{
 "cells": [
  {
   "cell_type": "code",
   "execution_count": 1,
   "metadata": {},
   "outputs": [],
   "source": [
    "import requests\n",
    "import json,base64,zlib,datetime\n",
    "import math\n",
    "import pandas as pd\n",
    "import os\n",
    "\n",
    "def decode_token(token):\n",
    "    # base64解码\n",
    "    token_decode = base64.b64decode(token.encode())\n",
    "    # 二进制解压\n",
    "    token_string = zlib.decompress(token_decode)\n",
    "    return token_string\n",
    "\n",
    "def encode_token(POI):\n",
    "    ##结合武汉地区POI编号字符串\n",
    "    strPOI = \"https://wh.meituan.com/meishi/\"+str(POI)+\"/\"\n",
    "    # 生成token\n",
    "    ts = int(datetime.datetime.now().timestamp() * 1000)\n",
    "    token_dict = {\n",
    "        'rId': 100900,\n",
    "        'ver': '1.0.6',\n",
    "        'ts': ts,\n",
    "        'cts': ts + 100 * 1000,\n",
    "        'brVD': [767,234],\n",
    "        'brR': [[1536,864],[1536,834],24,24],\n",
    "        'bI': [strPOI,\"\"],\n",
    "        'mT': [\"304,119\",\"304,116\",\"306,114\",\"308,111\"],\n",
    "        'kT': [],\n",
    "        'aT': [],\n",
    "        'tT': [],\n",
    "        'aM': '',\n",
    "        'sign': \"eJwdjT1OAzEQhe+SwqV/lmSTjeQCpUJCdBxgsCfZEWt7ZY9BOUIuQkfBpXIOBqr36en9bKAiPEXvrB1VAEZhqwLx9QUS+vv31/3npiLljPVUeuZH5ioZVVam1NupRJSyKpUulF/r4mfmtR2N+Zx1QuIOWYeSjHCbybz9HRm1wkVqIpVl2LthVOsCfC41iV2pvT/jBy7CrVT2qjf8f+2dot/vJ+e2APEQwhbwPMHOarcbp4dhcsOgnbbabn4BsB1J/Q==\"\n",
    "    }\n",
    "    # 二进制编码\n",
    "    encode = str(token_dict).encode()\n",
    "    # 二进制压缩\n",
    "    compress = zlib.compress(encode)\n",
    "    # base64编码\n",
    "    b_encode = base64.b64encode(compress)\n",
    "    # 转为字符串\n",
    "    token = str(b_encode, encoding='utf-8')\n",
    "    return token\n",
    "\n",
    "\n",
    "token = encode_token(\"b1006\")"
   ]
  },
  {
   "cell_type": "code",
   "execution_count": 2,
   "metadata": {},
   "outputs": [],
   "source": [
    "import requests\n",
    "from bs4 import BeautifulSoup\n",
    "import json\n",
    "import math\n",
    "import pandas as pd\n",
    "import os\n",
    "import uuid\n",
    " \n",
    "def get_shop_page_response(page_num):\n",
    "    simulateChromeBrowserData = {\n",
    "        'Accept':'*/*',\n",
    "        'Accept-Encoding':'gzip, deflate',\n",
    "        'Accept-Language':'zh-CN,zh;q=0.8',\n",
    "        'Connection':'keep-alive',\n",
    "        'Host':'sz.meituan.com',\n",
    "        'Referer':'http://wh.meituan.com/meishi/',\n",
    "        # 'Cookie': '_lxsdk_cuid=16212a00d8ec8-07cdb6596bad8e-178123e-1fa400-16212a00d8fc8; lat=22.780886; lng=113.906362; client-id=34908f62-ea11-4211-b60a-f62c32288b2e; uuid=9be4f96971ac4c9cab4c.1520730903.1.0.0; webloc_geo=22.527181%2C113.938582%2Cwgs84; ci=30; _lxsdk=16212a1cddfc8-011369480302e7-178123e-1fa400-16212a1cddfc8; __mta=247430459.1520730902128.1520731016684.1520731025187.5; _lxsdk_s=16212a00d8f-c83-6e-376%7C%7C9',\n",
    "        'User-Agent':'Mozilla/5.0 (Windows NT 10.0; Win64; x64) AppleWebKit/537.36 (KHTML, like Gecko) Chrome/76.0.3809.100 Safari/537.36'\n",
    "    }\n",
    "\n",
    "    purl='https://wh.meituan.com/meishi/api/poi/getPoiList'\n",
    "    # token='eJxFj81uozAURl8lOxZEMQZi4kpdBIZRoGkJAdyWahY4QIAEwj9Jq3n3wUSdLiyde3w/6btfXG2E3MMMCgIWhPmM66N6HDm4EBaIG+e2Yb9LhGWEsShhKI3y8GMVQfi2tCa/Rv2hIGU+EyX5z+T2TH3ApYTmsxVi8nuYNkSZvWnVYJtc0rZl8wDAkCzyKG27oFgcLjkYuUlSQMeiCLBiHMvk7pSRBHkOIWb6juiOaET5jqsR4ZQ5TRlGwX9qf9wzO59lmvRYMI7MIcxcaK0/dTuJeGeoCDjnjptFtlZ6phaq12Ojxb7+2ir+O1Ytz+jsU6yWb4alVrWEogLTp3W609/6WoVkrftJNWyv2PYcvu8lCKSiTLfnbEe8qPM3y/TiExLk8KUr96Zzeyq97vwb1HIe5+1efOH9K7Q7w3p9j5xso9Eb/cSbfQ6HE6mMkpzFbZsQa2ykyTAlYtm7IFNvilYTV6yyeBXzYnhpQW/ykbje6faQ0GH3vLGC+kBLOUwOjXUsKA1oIauNCk1gPz5yf/8Bg1GdFg=='\n",
    "\n",
    "    puuid=uuid.uuid1()\n",
    "    params={'cityName':'武汉',\n",
    "        'cateId':0,\n",
    "            'areaId':1006,\n",
    "            'sort':'',\n",
    "            'cityName': '武汉',\n",
    "            'dinnerCountAttrId': '',\n",
    "            'page': int(page_num),\n",
    "            'uuid': puuid,\n",
    "            'userId': 0,\n",
    "            'platform': 1,\n",
    "            'partner': 126,\n",
    "            'originUrl': 'https://wh.meituan.com/meishi/b1006/',\n",
    "            'riskLevel': 1,\n",
    "            'optimusCode': 10,\n",
    "            '_token': token\n",
    "           }\n",
    "    page = requests.get(purl,params=params,headers=simulateChromeBrowserData)\n",
    "    return page"
   ]
  },
  {
   "cell_type": "code",
   "execution_count": 3,
   "metadata": {
    "collapsed": true
   },
   "outputs": [],
   "source": [
    "# 解析POI店铺第一页的JSON返回结果,获得一共有多少页店铺页面\\\n",
    "def get_shop_pages(poi_Shops_Json):\n",
    "    data = json.loads(poi_Shops_Json)\n",
    "    if 'data' in data.keys():\n",
    "        if 'totalCounts' in data.get('data'):\n",
    "            shopCounts = data.get('data').get('totalCounts')\n",
    "            # 美图一页是展示32个商铺\n",
    "            pageNum = math.ceil(shopCounts/32)\n",
    "            return pageNum\n",
    "        else:\n",
    "            return 1\n",
    "    return 1\n",
    "# 解析每一页店铺的页面信息以及店铺的POI\n",
    "def parse_POI_Shop_Json(shop_json):\n",
    "    one_page_data = pd.DataFrame()\n",
    "    if 'data'in shop_json:\n",
    "        for eachShopInfo in shop_json.get('data').get('poiInfos'):\n",
    "            shopId = eachShopInfo.get('poiId')\n",
    "            shopName = eachShopInfo.get('title')\n",
    "            allCommentNum = eachShopInfo.get('allCommentNum')\n",
    "            one_page_data = one_page_data.append(pd.DataFrame({'shopId':[shopId],'shopName':[shopName],'allCommentNum':[allCommentNum]}))\n",
    "    return one_page_data"
   ]
  },
  {
   "cell_type": "code",
   "execution_count": 6,
   "metadata": {},
   "outputs": [
    {
     "ename": "InternalError",
     "evalue": "(1050, \"Table 'comments' already exists\")",
     "output_type": "error",
     "traceback": [
      "\u001b[1;31m---------------------------------------------------------------------------\u001b[0m",
      "\u001b[1;31mInternalError\u001b[0m                             Traceback (most recent call last)",
      "\u001b[1;32m<ipython-input-6-4e3db0eff2ed>\u001b[0m in \u001b[0;36m<module>\u001b[1;34m\u001b[0m\n\u001b[0;32m     22\u001b[0m \u001b[0mUNIQUE\u001b[0m \u001b[0mKEY\u001b[0m \u001b[1;33m(\u001b[0m\u001b[0mid\u001b[0m\u001b[1;33m)\u001b[0m\u001b[1;33m\u001b[0m\u001b[1;33m\u001b[0m\u001b[0m\n\u001b[0;32m     23\u001b[0m )ENGINE = InnoDB auto_increment=2 DEFAULT CHARSET=UTF8MB4 ; \"\"\"\n\u001b[1;32m---> 24\u001b[1;33m \u001b[0mcursor\u001b[0m\u001b[1;33m.\u001b[0m\u001b[0mexecute\u001b[0m\u001b[1;33m(\u001b[0m\u001b[0mSQL\u001b[0m\u001b[1;33m)\u001b[0m\u001b[1;33m\u001b[0m\u001b[1;33m\u001b[0m\u001b[0m\n\u001b[0m",
      "\u001b[1;32mD:\\360Downloads\\conda\\envs\\tensor\\lib\\site-packages\\pymysql\\cursors.py\u001b[0m in \u001b[0;36mexecute\u001b[1;34m(self, query, args)\u001b[0m\n\u001b[0;32m    168\u001b[0m         \u001b[0mquery\u001b[0m \u001b[1;33m=\u001b[0m \u001b[0mself\u001b[0m\u001b[1;33m.\u001b[0m\u001b[0mmogrify\u001b[0m\u001b[1;33m(\u001b[0m\u001b[0mquery\u001b[0m\u001b[1;33m,\u001b[0m \u001b[0margs\u001b[0m\u001b[1;33m)\u001b[0m\u001b[1;33m\u001b[0m\u001b[1;33m\u001b[0m\u001b[0m\n\u001b[0;32m    169\u001b[0m \u001b[1;33m\u001b[0m\u001b[0m\n\u001b[1;32m--> 170\u001b[1;33m         \u001b[0mresult\u001b[0m \u001b[1;33m=\u001b[0m \u001b[0mself\u001b[0m\u001b[1;33m.\u001b[0m\u001b[0m_query\u001b[0m\u001b[1;33m(\u001b[0m\u001b[0mquery\u001b[0m\u001b[1;33m)\u001b[0m\u001b[1;33m\u001b[0m\u001b[1;33m\u001b[0m\u001b[0m\n\u001b[0m\u001b[0;32m    171\u001b[0m         \u001b[0mself\u001b[0m\u001b[1;33m.\u001b[0m\u001b[0m_executed\u001b[0m \u001b[1;33m=\u001b[0m \u001b[0mquery\u001b[0m\u001b[1;33m\u001b[0m\u001b[1;33m\u001b[0m\u001b[0m\n\u001b[0;32m    172\u001b[0m         \u001b[1;32mreturn\u001b[0m \u001b[0mresult\u001b[0m\u001b[1;33m\u001b[0m\u001b[1;33m\u001b[0m\u001b[0m\n",
      "\u001b[1;32mD:\\360Downloads\\conda\\envs\\tensor\\lib\\site-packages\\pymysql\\cursors.py\u001b[0m in \u001b[0;36m_query\u001b[1;34m(self, q)\u001b[0m\n\u001b[0;32m    326\u001b[0m         \u001b[0mself\u001b[0m\u001b[1;33m.\u001b[0m\u001b[0m_last_executed\u001b[0m \u001b[1;33m=\u001b[0m \u001b[0mq\u001b[0m\u001b[1;33m\u001b[0m\u001b[1;33m\u001b[0m\u001b[0m\n\u001b[0;32m    327\u001b[0m         \u001b[0mself\u001b[0m\u001b[1;33m.\u001b[0m\u001b[0m_clear_result\u001b[0m\u001b[1;33m(\u001b[0m\u001b[1;33m)\u001b[0m\u001b[1;33m\u001b[0m\u001b[1;33m\u001b[0m\u001b[0m\n\u001b[1;32m--> 328\u001b[1;33m         \u001b[0mconn\u001b[0m\u001b[1;33m.\u001b[0m\u001b[0mquery\u001b[0m\u001b[1;33m(\u001b[0m\u001b[0mq\u001b[0m\u001b[1;33m)\u001b[0m\u001b[1;33m\u001b[0m\u001b[1;33m\u001b[0m\u001b[0m\n\u001b[0m\u001b[0;32m    329\u001b[0m         \u001b[0mself\u001b[0m\u001b[1;33m.\u001b[0m\u001b[0m_do_get_result\u001b[0m\u001b[1;33m(\u001b[0m\u001b[1;33m)\u001b[0m\u001b[1;33m\u001b[0m\u001b[1;33m\u001b[0m\u001b[0m\n\u001b[0;32m    330\u001b[0m         \u001b[1;32mreturn\u001b[0m \u001b[0mself\u001b[0m\u001b[1;33m.\u001b[0m\u001b[0mrowcount\u001b[0m\u001b[1;33m\u001b[0m\u001b[1;33m\u001b[0m\u001b[0m\n",
      "\u001b[1;32mD:\\360Downloads\\conda\\envs\\tensor\\lib\\site-packages\\pymysql\\connections.py\u001b[0m in \u001b[0;36mquery\u001b[1;34m(self, sql, unbuffered)\u001b[0m\n\u001b[0;32m    515\u001b[0m                 \u001b[0msql\u001b[0m \u001b[1;33m=\u001b[0m \u001b[0msql\u001b[0m\u001b[1;33m.\u001b[0m\u001b[0mencode\u001b[0m\u001b[1;33m(\u001b[0m\u001b[0mself\u001b[0m\u001b[1;33m.\u001b[0m\u001b[0mencoding\u001b[0m\u001b[1;33m,\u001b[0m \u001b[1;34m'surrogateescape'\u001b[0m\u001b[1;33m)\u001b[0m\u001b[1;33m\u001b[0m\u001b[1;33m\u001b[0m\u001b[0m\n\u001b[0;32m    516\u001b[0m         \u001b[0mself\u001b[0m\u001b[1;33m.\u001b[0m\u001b[0m_execute_command\u001b[0m\u001b[1;33m(\u001b[0m\u001b[0mCOMMAND\u001b[0m\u001b[1;33m.\u001b[0m\u001b[0mCOM_QUERY\u001b[0m\u001b[1;33m,\u001b[0m \u001b[0msql\u001b[0m\u001b[1;33m)\u001b[0m\u001b[1;33m\u001b[0m\u001b[1;33m\u001b[0m\u001b[0m\n\u001b[1;32m--> 517\u001b[1;33m         \u001b[0mself\u001b[0m\u001b[1;33m.\u001b[0m\u001b[0m_affected_rows\u001b[0m \u001b[1;33m=\u001b[0m \u001b[0mself\u001b[0m\u001b[1;33m.\u001b[0m\u001b[0m_read_query_result\u001b[0m\u001b[1;33m(\u001b[0m\u001b[0munbuffered\u001b[0m\u001b[1;33m=\u001b[0m\u001b[0munbuffered\u001b[0m\u001b[1;33m)\u001b[0m\u001b[1;33m\u001b[0m\u001b[1;33m\u001b[0m\u001b[0m\n\u001b[0m\u001b[0;32m    518\u001b[0m         \u001b[1;32mreturn\u001b[0m \u001b[0mself\u001b[0m\u001b[1;33m.\u001b[0m\u001b[0m_affected_rows\u001b[0m\u001b[1;33m\u001b[0m\u001b[1;33m\u001b[0m\u001b[0m\n\u001b[0;32m    519\u001b[0m \u001b[1;33m\u001b[0m\u001b[0m\n",
      "\u001b[1;32mD:\\360Downloads\\conda\\envs\\tensor\\lib\\site-packages\\pymysql\\connections.py\u001b[0m in \u001b[0;36m_read_query_result\u001b[1;34m(self, unbuffered)\u001b[0m\n\u001b[0;32m    730\u001b[0m         \u001b[1;32melse\u001b[0m\u001b[1;33m:\u001b[0m\u001b[1;33m\u001b[0m\u001b[1;33m\u001b[0m\u001b[0m\n\u001b[0;32m    731\u001b[0m             \u001b[0mresult\u001b[0m \u001b[1;33m=\u001b[0m \u001b[0mMySQLResult\u001b[0m\u001b[1;33m(\u001b[0m\u001b[0mself\u001b[0m\u001b[1;33m)\u001b[0m\u001b[1;33m\u001b[0m\u001b[1;33m\u001b[0m\u001b[0m\n\u001b[1;32m--> 732\u001b[1;33m             \u001b[0mresult\u001b[0m\u001b[1;33m.\u001b[0m\u001b[0mread\u001b[0m\u001b[1;33m(\u001b[0m\u001b[1;33m)\u001b[0m\u001b[1;33m\u001b[0m\u001b[1;33m\u001b[0m\u001b[0m\n\u001b[0m\u001b[0;32m    733\u001b[0m         \u001b[0mself\u001b[0m\u001b[1;33m.\u001b[0m\u001b[0m_result\u001b[0m \u001b[1;33m=\u001b[0m \u001b[0mresult\u001b[0m\u001b[1;33m\u001b[0m\u001b[1;33m\u001b[0m\u001b[0m\n\u001b[0;32m    734\u001b[0m         \u001b[1;32mif\u001b[0m \u001b[0mresult\u001b[0m\u001b[1;33m.\u001b[0m\u001b[0mserver_status\u001b[0m \u001b[1;32mis\u001b[0m \u001b[1;32mnot\u001b[0m \u001b[1;32mNone\u001b[0m\u001b[1;33m:\u001b[0m\u001b[1;33m\u001b[0m\u001b[1;33m\u001b[0m\u001b[0m\n",
      "\u001b[1;32mD:\\360Downloads\\conda\\envs\\tensor\\lib\\site-packages\\pymysql\\connections.py\u001b[0m in \u001b[0;36mread\u001b[1;34m(self)\u001b[0m\n\u001b[0;32m   1073\u001b[0m     \u001b[1;32mdef\u001b[0m \u001b[0mread\u001b[0m\u001b[1;33m(\u001b[0m\u001b[0mself\u001b[0m\u001b[1;33m)\u001b[0m\u001b[1;33m:\u001b[0m\u001b[1;33m\u001b[0m\u001b[1;33m\u001b[0m\u001b[0m\n\u001b[0;32m   1074\u001b[0m         \u001b[1;32mtry\u001b[0m\u001b[1;33m:\u001b[0m\u001b[1;33m\u001b[0m\u001b[1;33m\u001b[0m\u001b[0m\n\u001b[1;32m-> 1075\u001b[1;33m             \u001b[0mfirst_packet\u001b[0m \u001b[1;33m=\u001b[0m \u001b[0mself\u001b[0m\u001b[1;33m.\u001b[0m\u001b[0mconnection\u001b[0m\u001b[1;33m.\u001b[0m\u001b[0m_read_packet\u001b[0m\u001b[1;33m(\u001b[0m\u001b[1;33m)\u001b[0m\u001b[1;33m\u001b[0m\u001b[1;33m\u001b[0m\u001b[0m\n\u001b[0m\u001b[0;32m   1076\u001b[0m \u001b[1;33m\u001b[0m\u001b[0m\n\u001b[0;32m   1077\u001b[0m             \u001b[1;32mif\u001b[0m \u001b[0mfirst_packet\u001b[0m\u001b[1;33m.\u001b[0m\u001b[0mis_ok_packet\u001b[0m\u001b[1;33m(\u001b[0m\u001b[1;33m)\u001b[0m\u001b[1;33m:\u001b[0m\u001b[1;33m\u001b[0m\u001b[1;33m\u001b[0m\u001b[0m\n",
      "\u001b[1;32mD:\\360Downloads\\conda\\envs\\tensor\\lib\\site-packages\\pymysql\\connections.py\u001b[0m in \u001b[0;36m_read_packet\u001b[1;34m(self, packet_type)\u001b[0m\n\u001b[0;32m    682\u001b[0m \u001b[1;33m\u001b[0m\u001b[0m\n\u001b[0;32m    683\u001b[0m         \u001b[0mpacket\u001b[0m \u001b[1;33m=\u001b[0m \u001b[0mpacket_type\u001b[0m\u001b[1;33m(\u001b[0m\u001b[0mbuff\u001b[0m\u001b[1;33m,\u001b[0m \u001b[0mself\u001b[0m\u001b[1;33m.\u001b[0m\u001b[0mencoding\u001b[0m\u001b[1;33m)\u001b[0m\u001b[1;33m\u001b[0m\u001b[1;33m\u001b[0m\u001b[0m\n\u001b[1;32m--> 684\u001b[1;33m         \u001b[0mpacket\u001b[0m\u001b[1;33m.\u001b[0m\u001b[0mcheck_error\u001b[0m\u001b[1;33m(\u001b[0m\u001b[1;33m)\u001b[0m\u001b[1;33m\u001b[0m\u001b[1;33m\u001b[0m\u001b[0m\n\u001b[0m\u001b[0;32m    685\u001b[0m         \u001b[1;32mreturn\u001b[0m \u001b[0mpacket\u001b[0m\u001b[1;33m\u001b[0m\u001b[1;33m\u001b[0m\u001b[0m\n\u001b[0;32m    686\u001b[0m \u001b[1;33m\u001b[0m\u001b[0m\n",
      "\u001b[1;32mD:\\360Downloads\\conda\\envs\\tensor\\lib\\site-packages\\pymysql\\protocol.py\u001b[0m in \u001b[0;36mcheck_error\u001b[1;34m(self)\u001b[0m\n\u001b[0;32m    218\u001b[0m             \u001b[0merrno\u001b[0m \u001b[1;33m=\u001b[0m \u001b[0mself\u001b[0m\u001b[1;33m.\u001b[0m\u001b[0mread_uint16\u001b[0m\u001b[1;33m(\u001b[0m\u001b[1;33m)\u001b[0m\u001b[1;33m\u001b[0m\u001b[1;33m\u001b[0m\u001b[0m\n\u001b[0;32m    219\u001b[0m             \u001b[1;32mif\u001b[0m \u001b[0mDEBUG\u001b[0m\u001b[1;33m:\u001b[0m \u001b[0mprint\u001b[0m\u001b[1;33m(\u001b[0m\u001b[1;34m\"errno =\"\u001b[0m\u001b[1;33m,\u001b[0m \u001b[0merrno\u001b[0m\u001b[1;33m)\u001b[0m\u001b[1;33m\u001b[0m\u001b[1;33m\u001b[0m\u001b[0m\n\u001b[1;32m--> 220\u001b[1;33m             \u001b[0merr\u001b[0m\u001b[1;33m.\u001b[0m\u001b[0mraise_mysql_exception\u001b[0m\u001b[1;33m(\u001b[0m\u001b[0mself\u001b[0m\u001b[1;33m.\u001b[0m\u001b[0m_data\u001b[0m\u001b[1;33m)\u001b[0m\u001b[1;33m\u001b[0m\u001b[1;33m\u001b[0m\u001b[0m\n\u001b[0m\u001b[0;32m    221\u001b[0m \u001b[1;33m\u001b[0m\u001b[0m\n\u001b[0;32m    222\u001b[0m     \u001b[1;32mdef\u001b[0m \u001b[0mdump\u001b[0m\u001b[1;33m(\u001b[0m\u001b[0mself\u001b[0m\u001b[1;33m)\u001b[0m\u001b[1;33m:\u001b[0m\u001b[1;33m\u001b[0m\u001b[1;33m\u001b[0m\u001b[0m\n",
      "\u001b[1;32mD:\\360Downloads\\conda\\envs\\tensor\\lib\\site-packages\\pymysql\\err.py\u001b[0m in \u001b[0;36mraise_mysql_exception\u001b[1;34m(data)\u001b[0m\n\u001b[0;32m    107\u001b[0m         \u001b[0merrval\u001b[0m \u001b[1;33m=\u001b[0m \u001b[0mdata\u001b[0m\u001b[1;33m[\u001b[0m\u001b[1;36m3\u001b[0m\u001b[1;33m:\u001b[0m\u001b[1;33m]\u001b[0m\u001b[1;33m.\u001b[0m\u001b[0mdecode\u001b[0m\u001b[1;33m(\u001b[0m\u001b[1;34m'utf-8'\u001b[0m\u001b[1;33m,\u001b[0m \u001b[1;34m'replace'\u001b[0m\u001b[1;33m)\u001b[0m\u001b[1;33m\u001b[0m\u001b[1;33m\u001b[0m\u001b[0m\n\u001b[0;32m    108\u001b[0m     \u001b[0merrorclass\u001b[0m \u001b[1;33m=\u001b[0m \u001b[0merror_map\u001b[0m\u001b[1;33m.\u001b[0m\u001b[0mget\u001b[0m\u001b[1;33m(\u001b[0m\u001b[0merrno\u001b[0m\u001b[1;33m,\u001b[0m \u001b[0mInternalError\u001b[0m\u001b[1;33m)\u001b[0m\u001b[1;33m\u001b[0m\u001b[1;33m\u001b[0m\u001b[0m\n\u001b[1;32m--> 109\u001b[1;33m     \u001b[1;32mraise\u001b[0m \u001b[0merrorclass\u001b[0m\u001b[1;33m(\u001b[0m\u001b[0merrno\u001b[0m\u001b[1;33m,\u001b[0m \u001b[0merrval\u001b[0m\u001b[1;33m)\u001b[0m\u001b[1;33m\u001b[0m\u001b[1;33m\u001b[0m\u001b[0m\n\u001b[0m",
      "\u001b[1;31mInternalError\u001b[0m: (1050, \"Table 'comments' already exists\")"
     ]
    }
   ],
   "source": [
    "import pymysql\n",
    "connect = pymysql.Connect(\n",
    "        host='localhost', \n",
    "        port=3306, \n",
    "        user='root', \n",
    "        passwd='123456',\n",
    "        db='douban', \n",
    "        charset='utf8')\n",
    "cursor=connect.cursor()\n",
    "\n",
    "SQL=\"\"\"\n",
    "DROP table IF EXISTS  Comments;\"\"\"\n",
    "cursor.execute(SQL)\n",
    "SQL=\"\"\"\n",
    "CREATE table Comments\n",
    "(\n",
    " id int(10) unsigned NOT null ,\n",
    " shopname varchar(80) NOT NULL COMMENT '商家ID',\n",
    " allcomnum int(10) unsigned NOT NULL DEFAULT '0' COMMENT '最大评论数' ,\n",
    "PRIMARY KEY (id) ,\n",
    "UNIQUE KEY (id)\n",
    ")ENGINE = InnoDB auto_increment=2 DEFAULT CHARSET=UTF8MB4 ; \"\"\"\n",
    "cursor.execute(SQL)\n"
   ]
  },
  {
   "cell_type": "code",
   "execution_count": 5,
   "metadata": {
    "scrolled": false
   },
   "outputs": [
    {
     "name": "stdout",
     "output_type": "stream",
     "text": [
      "       shopId        shopName  allCommentNum\n",
      "0   592422377         橘味·星选味道             17\n",
      "0       74779    秀玉红茶坊（光谷二期店）          26304\n",
      "0     2464754      捞旺猪肚鸡（光谷店）          19527\n",
      "0   164168527         许多年以后烤吧           1026\n",
      "0    42788407      鑫小城故事（光谷店）          11173\n",
      "..        ...             ...            ...\n",
      "0     5534854  南海底平价小海鲜（创业街店）           2238\n",
      "0    51003002    木碳吧韩国烤肉（财大店）            868\n",
      "0     4454197      momo时光欢乐餐厅           1420\n",
      "0     5218756   江湖飞饼（澳门街美食城店）            113\n",
      "0     5827508        天时饭庄罗田吊锅              4\n",
      "\n",
      "[150 rows x 3 columns]\n"
     ]
    }
   ],
   "source": [
    "poiShopData = pd.DataFrame()\n",
    "for i in range(10):\n",
    "    page=get_shop_page_response(i+1)\n",
    "    page_shop_json=json.loads(str(page.text))\n",
    "    onePageData = parse_POI_Shop_Json(page_shop_json)\n",
    "    poiShopData = poiShopData.append(onePageData)\n",
    "print(poiShopData)\n",
    "SQL=\"REPLACE  INTO Comments(id,shopname,allcomnum) VALUES(%s,%s,%s);\"\n",
    "for i in range(len(poiShopData)):\n",
    "    shopId = int(poiShopData.iloc[i].shopId)\n",
    "    shopName = poiShopData.iloc[i].shopName\n",
    "    allCommentNum = int(poiShopData.iloc[i].allCommentNum)\n",
    "    cursor.execute(SQL,(shopId,shopName,allCommentNum))\n",
    "poiShopData.to_csv('poiShopsData.csv', index=False)"
   ]
  },
  {
   "cell_type": "code",
   "execution_count": 6,
   "metadata": {},
   "outputs": [],
   "source": [
    "#关闭MYSQL连接\n",
    "connect.close()\n",
    "cursor.close()"
   ]
  },
  {
   "cell_type": "code",
   "execution_count": 10,
   "metadata": {},
   "outputs": [
    {
     "data": {
      "text/plain": [
       "2"
      ]
     },
     "execution_count": 10,
     "metadata": {},
     "output_type": "execute_result"
    }
   ],
   "source": [
    "    SQL=\"REPLACE  INTO Comments(id,shopname,allcomnum) VALUES(%s,%s,%s);\"\n",
    "    shopId = 111\n",
    "    shopName = 'poiShopData.iloc[i].shopName'\n",
    "    allCommentNum = 232424\n",
    "    cursor.execute(SQL,(shopId,shopName,allCommentNum))"
   ]
  },
  {
   "cell_type": "code",
   "execution_count": 11,
   "metadata": {},
   "outputs": [
    {
     "data": {
      "text/plain": [
       "0"
      ]
     },
     "execution_count": 11,
     "metadata": {},
     "output_type": "execute_result"
    }
   ],
   "source": []
  },
  {
   "cell_type": "code",
   "execution_count": null,
   "metadata": {
    "collapsed": true
   },
   "outputs": [],
   "source": []
  },
  {
   "cell_type": "code",
   "execution_count": null,
   "metadata": {
    "collapsed": true
   },
   "outputs": [],
   "source": []
  }
 ],
 "metadata": {
  "kernelspec": {
   "display_name": "Python [conda env:tensor] *",
   "language": "python",
   "name": "conda-env-tensor-py"
  },
  "language_info": {
   "codemirror_mode": {
    "name": "ipython",
    "version": 3
   },
   "file_extension": ".py",
   "mimetype": "text/x-python",
   "name": "python",
   "nbconvert_exporter": "python",
   "pygments_lexer": "ipython3",
   "version": "3.6.7"
  }
 },
 "nbformat": 4,
 "nbformat_minor": 2
}
