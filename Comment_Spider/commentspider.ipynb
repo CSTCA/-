{
 "cells": [
  {
   "cell_type": "code",
   "execution_count": 5,
   "metadata": {
    "collapsed": true
   },
   "outputs": [],
   "source": [
    "import requests\n",
    "import json\n",
    "from lxml import etree\n",
    "import pandas as pd\n",
    "import re\n",
    "import math\n",
    "\n",
    "##调用getMerchantComment接口获取评论json\n",
    "def getShopPage(shopID,offSet):\n",
    "    simulateChromeBrowserData = {\n",
    "        'Accept':'*/*',\n",
    "        'Accept-Encoding':'gzip, deflate',\n",
    "        'Accept-Language':'zh-CN,zh;q=0.8',\n",
    "        'Connection':'keep-alive',\n",
    "        'Host':'sz.meituan.com',\n",
    "        'Referer':'http://wh.meituan.com/meishi/',\n",
    "        # 'Cookie': '_lxsdk_cuid=16212a00d8ec8-07cdb6596bad8e-178123e-1fa400-16212a00d8fc8; lat=22.780886; lng=113.906362; client-id=34908f62-ea11-4211-b60a-f62c32288b2e; uuid=9be4f96971ac4c9cab4c.1520730903.1.0.0; webloc_geo=22.527181%2C113.938582%2Cwgs84; ci=30; _lxsdk=16212a1cddfc8-011369480302e7-178123e-1fa400-16212a1cddfc8; __mta=247430459.1520730902128.1520731016684.1520731025187.5; _lxsdk_s=16212a00d8f-c83-6e-376%7C%7C9',\n",
    "        'User-Agent':'Mozilla/5.0 (Windows NT 10.0; Win64; x64) AppleWebKit/537.36 (KHTML, like Gecko) Chrome/76.0.3809.100 Safari/537.36'\n",
    "    }\n",
    "    purl='https://www.meituan.com/meishi/api/poi/getMerchantComment'\n",
    "    params = {\n",
    "        'id' : shopID,\n",
    "        'userId' : 0,\n",
    "        'offset' : offSet*10,#偏移量，也是页码信息\n",
    "        'pageSize' : 10,\n",
    "        'sortType' : 1\n",
    "    }\n",
    "    page = requests.get(purl,params=params,headers=simulateChromeBrowserData)\n",
    "    return page\n",
    "\n"
   ]
  },
  {
   "cell_type": "code",
   "execution_count": 6,
   "metadata": {
    "collapsed": true
   },
   "outputs": [],
   "source": [
    "def dataClean(comment):  #只保留中文\n",
    "    pattern = re.compile(r'[^\\u4e00-\\u9fa5]')\n",
    "    commentc = re.sub(pattern, '', comment)\n",
    "    return commentc\n",
    "\n",
    "def parse_POI_Shop_Json(shop_json):\n",
    "    one_comment_data = pd.DataFrame()\n",
    "    if 'data'in shop_json:\n",
    "        for eachShopInfo in shop_json.get('data').get('comments'):\n",
    "            Comment = dataClean(eachShopInfo.get('comment'))\n",
    "            if not Comment:\n",
    "                continue\n",
    "            IsGreet = 1 if eachShopInfo.get('star')>= 30 else 0\n",
    "            one_comment_data = one_comment_data.append(pd.DataFrame({'comment':[Comment],'sentiment':[IsGreet]}))\n",
    "    return one_comment_data"
   ]
  },
  {
   "cell_type": "code",
   "execution_count": 7,
   "metadata": {
    "scrolled": true
   },
   "outputs": [
    {
     "name": "stdout",
     "output_type": "stream",
     "text": [
      "                                              comment  sentiment\n",
      "0                                个人吃加了个羊腿不错的一家西餐厅还会光顾          1\n",
      "0   我和男朋友是秀玉的老顾客了第一次认识就是在秀玉吃的饭他们家的环境优雅菜品味道也挺不错今天和男...          1\n",
      "0   每次来秀玉觉得心情很好因为环境不错东西又很好吃因为没有拍照的习惯只能拿朋友做的东西来凑了貌似...          1\n",
      "0   和室友一起来的这里位置很好找整个装饰也很有格调适合人们休息点了香辣咖喱鸡焗饭冰淇淋水果圣代奶...          1\n",
      "0                                  还不错吧环境优雅菜品种类多味道还可以          1\n",
      "..                                                ...        ...\n",
      "0                            吃的牛排披萨很饱味道不错有点小贵再优惠点就更好了          1\n",
      "0   好非常好环境好东西好吃跟同学来的同学也很喜欢我超级喜欢这个地方环境高端食物大气真是上档次很喜...          1\n",
      "0   菜的口味好好好好好好好好好好好好好好好好好好好好好好好好好好好好好好了吗呢吧主题库里好好好好...          1\n",
      "0                        牛排煎的太过了上菜慢有可能是人多味道没有魅力船说餐吧的好          1\n",
      "0   我們是下午去的燈光優美環境不錯服務員也很熱情沒有因為是團購就怠慢我們上菜的速度也超快的份量不...          1\n",
      "\n",
      "[19971 rows x 2 columns]\n"
     ]
    }
   ],
   "source": [
    "Comment_datas = pd.DataFrame();\n",
    "# allCommentNum商家的最大评论数\n",
    "allCommentNum=20000\n",
    "for i in range(allCommentNum//10):\n",
    "    page = getShopPage(74779,i)\n",
    "    #print(page.url)\n",
    "    # print(page.json())\n",
    "    Comment_data = parse_POI_Shop_Json(page.json())\n",
    "    Comment_datas = Comment_datas.append(Comment_data)\n",
    "print(Comment_datas)\n",
    "Comment_datas.to_csv('CommentOfSentiment_datas.csv', index=False)\n"
   ]
  },
  {
   "cell_type": "code",
   "execution_count": null,
   "metadata": {
    "collapsed": true
   },
   "outputs": [],
   "source": []
  }
 ],
 "metadata": {
  "kernelspec": {
   "display_name": "Python [conda env:tensor] *",
   "language": "python",
   "name": "conda-env-tensor-py"
  },
  "language_info": {
   "codemirror_mode": {
    "name": "ipython",
    "version": 3
   },
   "file_extension": ".py",
   "mimetype": "text/x-python",
   "name": "python",
   "nbconvert_exporter": "python",
   "pygments_lexer": "ipython3",
   "version": "3.6.7"
  }
 },
 "nbformat": 4,
 "nbformat_minor": 2
}
