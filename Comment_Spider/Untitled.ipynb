{
 "cells": [
  {
   "cell_type": "code",
   "execution_count": 27,
   "metadata": {},
   "outputs": [
    {
     "name": "stdout",
     "output_type": "stream",
     "text": [
      "['194379111', '42788407', '5172474', '194644177', '5136959', '740990', '179661198', '42013159', '40735703', '187959145', '6662454', '2469846', '1432021256', '41272550', '4483037']\n",
      "['62900395', '2410021', '5633439', '193495920', '6742130', '52735081', '189336024', '5335418', '4955388', '194286160', '5571696', '4557254', '194866030', '5131823', '5554797']\n",
      "['193982131', '6200595', '41272550', '1267453502', '41938493', '5568574', '193681581', '4891248', '1496465', '187771642', '4955388', '745587', '5136959', '5151532', '4239555']\n",
      "['188473431', '5792382', '6023271', '193379360', '6200595', '6873328', '592422377', '40061617', '4426164', '183978872', '42565232', '1556085', '193994566', '5344746', '4239555']\n",
      "['193828092', '6926612', '750766', '195897682', '737759', '5568574', '163565991', '41938493', '42542072', '192085584', '6005863', '40949324', '185536739', '1468978', '41791178']\n",
      "['195864525', '42522908', '41605051', '874654539', '796883', '40807181', '194293529', '42902189', '6546524', '193812165', '2477825', '5547288', '195432736', '745587', '40149531']\n",
      "['193349947', '41132609', '41134530', '195170855', '42517472', '3292457', '169124533', '6275241', '2554256', '194941299', '2456671', '4128659', '193570419', '1026455', '737724']\n",
      "['193570419', '41028741', '4177212', '193289516', '4647522', '1892707', '1762035290', '40791673', '6184304', '78675739', '40546993', '41770231', '194383319', '50988080', '40995875']\n",
      "['150090166', '745018', '6643692', '159770987', '40426761', '40489068', '193931099', '4570262', '1898825', '192646236', '4170892', '41418170', '192562256', '751483', '4294542']\n",
      "['194801184', '40030028', '6379458', '194767222', '42216096', '42854054', '194648005', '40292548', '741805', '160911973', '738559', '1150158', '194349987', '5877924', '2559790']\n",
      "        POIID\n",
      "0   194379111\n",
      "1    42788407\n",
      "2     5172474\n",
      "3   194644177\n",
      "4     5136959\n",
      "..        ...\n",
      "10     738559\n",
      "11    1150158\n",
      "12  194349987\n",
      "13    5877924\n",
      "14    2559790\n",
      "\n",
      "[150 rows x 1 columns]\n"
     ]
    }
   ],
   "source": [
    "import requests\n",
    "import re\n",
    "from requests.exceptions import RequestException\n",
    "import pandas as pd\n",
    "POIid=pd.DataFrame()\n",
    "for i in range(10):\n",
    "    url = \"https://wh.meituan.com/meishi/pn\" + str(i+1) + '/'\n",
    "    headers = {\"User-Agent\": \"Mozilla/4.0 (compatible; MSIE 8.0; Windows NT 6.0; Trident/4.0)\"}\n",
    "    try:\n",
    "        # 访问页面\n",
    "        response = requests.get(url, headers=headers)\n",
    "        #print(response.text)\n",
    "        #print(response.status_code)\n",
    "        if response.status_code == 200:\n",
    "\n",
    "           #正则表达式提取当前分页所有商家id以及访客信息\n",
    "           find_poild=re.findall('\"poiId\":(\\d*?),',response.text)\n",
    "           find_uuid=re.findall('\"uuid\":\"(.*?)\",',response.text)\n",
    "           #get_info进入商家详细页\n",
    "           #get_info(find_poild,\"wh\",find_uuid)\n",
    "           print(find_poild)\n",
    "           POIid = POIid.append(pd.DataFrame({'POIID':find_poild}))\n",
    "    except RequestException:\n",
    "        print(\"None\")  # 报错\n",
    "print(POIid)"
   ]
  },
  {
   "cell_type": "code",
   "execution_count": 28,
   "metadata": {},
   "outputs": [
    {
     "data": {
      "text/html": [
       "<div>\n",
       "<style scoped>\n",
       "    .dataframe tbody tr th:only-of-type {\n",
       "        vertical-align: middle;\n",
       "    }\n",
       "\n",
       "    .dataframe tbody tr th {\n",
       "        vertical-align: top;\n",
       "    }\n",
       "\n",
       "    .dataframe thead th {\n",
       "        text-align: right;\n",
       "    }\n",
       "</style>\n",
       "<table border=\"1\" class=\"dataframe\">\n",
       "  <thead>\n",
       "    <tr style=\"text-align: right;\">\n",
       "      <th></th>\n",
       "      <th>POIID</th>\n",
       "    </tr>\n",
       "  </thead>\n",
       "  <tbody>\n",
       "    <tr>\n",
       "      <td>0</td>\n",
       "      <td>194379111</td>\n",
       "    </tr>\n",
       "    <tr>\n",
       "      <td>1</td>\n",
       "      <td>42788407</td>\n",
       "    </tr>\n",
       "    <tr>\n",
       "      <td>2</td>\n",
       "      <td>5172474</td>\n",
       "    </tr>\n",
       "    <tr>\n",
       "      <td>3</td>\n",
       "      <td>194644177</td>\n",
       "    </tr>\n",
       "    <tr>\n",
       "      <td>4</td>\n",
       "      <td>5136959</td>\n",
       "    </tr>\n",
       "    <tr>\n",
       "      <td>...</td>\n",
       "      <td>...</td>\n",
       "    </tr>\n",
       "    <tr>\n",
       "      <td>10</td>\n",
       "      <td>738559</td>\n",
       "    </tr>\n",
       "    <tr>\n",
       "      <td>11</td>\n",
       "      <td>1150158</td>\n",
       "    </tr>\n",
       "    <tr>\n",
       "      <td>12</td>\n",
       "      <td>194349987</td>\n",
       "    </tr>\n",
       "    <tr>\n",
       "      <td>13</td>\n",
       "      <td>5877924</td>\n",
       "    </tr>\n",
       "    <tr>\n",
       "      <td>14</td>\n",
       "      <td>2559790</td>\n",
       "    </tr>\n",
       "  </tbody>\n",
       "</table>\n",
       "<p>150 rows × 1 columns</p>\n",
       "</div>"
      ],
      "text/plain": [
       "        POIID\n",
       "0   194379111\n",
       "1    42788407\n",
       "2     5172474\n",
       "3   194644177\n",
       "4     5136959\n",
       "..        ...\n",
       "10     738559\n",
       "11    1150158\n",
       "12  194349987\n",
       "13    5877924\n",
       "14    2559790\n",
       "\n",
       "[150 rows x 1 columns]"
      ]
     },
     "execution_count": 28,
     "metadata": {},
     "output_type": "execute_result"
    }
   ],
   "source": [
    "POIid"
   ]
  },
  {
   "cell_type": "code",
   "execution_count": null,
   "metadata": {
    "collapsed": true
   },
   "outputs": [],
   "source": []
  }
 ],
 "metadata": {
  "kernelspec": {
   "display_name": "Python [conda env:tensor] *",
   "language": "python",
   "name": "conda-env-tensor-py"
  },
  "language_info": {
   "codemirror_mode": {
    "name": "ipython",
    "version": 3
   },
   "file_extension": ".py",
   "mimetype": "text/x-python",
   "name": "python",
   "nbconvert_exporter": "python",
   "pygments_lexer": "ipython3",
   "version": "3.6.7"
  }
 },
 "nbformat": 4,
 "nbformat_minor": 2
}
