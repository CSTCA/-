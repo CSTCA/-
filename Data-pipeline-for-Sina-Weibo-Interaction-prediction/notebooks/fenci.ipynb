{
 "cells": [
  {
   "cell_type": "code",
   "execution_count": 1,
   "metadata": {},
   "outputs": [],
   "source": [
    "import sys"
   ]
  },
  {
   "cell_type": "code",
   "execution_count": 2,
   "metadata": {},
   "outputs": [],
   "source": [
    "sys.path.append('/Users/Pro/Ongoing/weibo')"
   ]
  },
  {
   "cell_type": "code",
   "execution_count": 3,
   "metadata": {},
   "outputs": [],
   "source": [
    "import jieba"
   ]
  },
  {
   "cell_type": "code",
   "execution_count": 5,
   "metadata": {},
   "outputs": [],
   "source": [
    "from weiboPredict import framework as fw"
   ]
  },
  {
   "cell_type": "code",
   "execution_count": 6,
   "metadata": {},
   "outputs": [],
   "source": [
    "from pandas import Series,DataFrame"
   ]
  },
  {
   "cell_type": "code",
   "execution_count": 7,
   "metadata": {},
   "outputs": [],
   "source": [
    "fw.loadData()"
   ]
  },
  {
   "cell_type": "code",
   "execution_count": 8,
   "metadata": {},
   "outputs": [],
   "source": [
    "import weiboPredict"
   ]
  },
  {
   "cell_type": "code",
   "execution_count": 245,
   "metadata": {},
   "outputs": [
    {
     "ename": "SyntaxError",
     "evalue": "Non-ASCII character '\\xef' in file /Users/Pro/Ongoing/weibo/weiboPredict/framework.py on line 76, but no encoding declared; see http://www.python.org/peps/pep-0263.html for details (framework.py, line 76)",
     "output_type": "error",
     "traceback": [
      "\u001b[0;36m  File \u001b[0;32m\"/Users/Pro/Ongoing/weibo/weiboPredict/framework.py\"\u001b[0;36m, line \u001b[0;32m76\u001b[0m\n\u001b[0;31m    at+= re.findall(\"@(.{0,30})）\",context)\u001b[0m\n\u001b[0m                                          ^\u001b[0m\n\u001b[0;31mSyntaxError\u001b[0m\u001b[0;31m:\u001b[0m Non-ASCII character '\\xef' in file /Users/Pro/Ongoing/weibo/weiboPredict/framework.py on line 76, but no encoding declared; see http://www.python.org/peps/pep-0263.html for details\n"
     ]
    }
   ],
   "source": [
    "reload(weiboPredict.framework)"
   ]
  },
  {
   "cell_type": "code",
   "execution_count": 10,
   "metadata": {},
   "outputs": [
    {
     "name": "stdout",
     "output_type": "stream",
     "text": [
      "[吐]@京东 的用户体验太差了....第一次在京东购物，买了几百的书....真是经历了网购的各种问题...1.货到了，没给发票。2.货到了，2本书，网上显示都发货了，包裹里只有1本，而且没发票...问店家，店家承认另外一本没货...店家让我确认收货才退钱...[思考]。3.没有货物清单...或者清单是一个废弃A4打的\n"
     ]
    }
   ],
   "source": [
    "print fw.weibo_train_data.ix[0].context"
   ]
  },
  {
   "cell_type": "code",
   "execution_count": 11,
   "metadata": {},
   "outputs": [
    {
     "name": "stdout",
     "output_type": "stream",
     "text": [
      "#我爱小米手机#因为小米手机4的屏幕太给力了，5英寸的高色彩饱和度夏普 / JDI屏幕，1920x1080全高清分辨率，玩游戏，看高清视频爽爆了。11月18日中午12点开放购买，仅售1999元，希望能买到1台。@小米手机 @卖仙剑的酒剑仙  @海先生V  ，分享免费预约地址http://t.cn/RPkmgBL\n"
     ]
    }
   ],
   "source": [
    "print fw.weibo_train_data.ix[1].context"
   ]
  },
  {
   "cell_type": "code",
   "execution_count": 60,
   "metadata": {},
   "outputs": [
    {
     "name": "stdout",
     "output_type": "stream",
     "text": [
      "�/�/�/�/�/�/J/e/r/e/m/y/ /L/i/ /i/s/ /a/ /g/o/o/d/ /m/a/n/�/�/�/�/�/�/�/�/�\n"
     ]
    }
   ],
   "source": [
    "print '/'.join('李晨Jeremy Li is a good man哈哈哈')"
   ]
  },
  {
   "cell_type": "code",
   "execution_count": 13,
   "metadata": {},
   "outputs": [
    {
     "name": "stdout",
     "output_type": "stream",
     "text": [
      "[doge]找工作╮(╯▽╰)╭……\n"
     ]
    }
   ],
   "source": [
    "print fw.weibo_train_data.ix[3].context"
   ]
  },
  {
   "cell_type": "code",
   "execution_count": 38,
   "metadata": {},
   "outputs": [
    {
     "name": "stdout",
     "output_type": "stream",
     "text": [
      "[/doge/]/找/工作/╮/(/╯/▽/╰/)/╭/…/…\n"
     ]
    }
   ],
   "source": [
    "print '/'.join(jieba.lcut(fw.weibo_train_data.ix[3].context))"
   ]
  },
  {
   "cell_type": "code",
   "execution_count": 40,
   "metadata": {},
   "outputs": [
    {
     "name": "stdout",
     "output_type": "stream",
     "text": [
      "#魔浪潮爆U5智能耳机#“关注@魔浪蓝牙耳机+转发本微博并@3位好友+#魔浪潮爆U5智能耳机#+免费体验的动人理由”即有机会获得免费体验资格，我已经参加了，你们快来呀！！ http://t.cn/R7BhYdI\n"
     ]
    }
   ],
   "source": [
    "print fw.weibo_train_data.ix[5].context"
   ]
  },
  {
   "cell_type": "code",
   "execution_count": 42,
   "metadata": {},
   "outputs": [
    {
     "name": "stdout",
     "output_type": "stream",
     "text": [
      "#/魔/浪潮/爆/U5/智能/耳机/#/“/关注/@/魔浪/蓝牙/耳机/+/转发/本微博/并/@/3/位/好友/+#/魔/浪潮/爆/U5/智能/耳机/#+/免费/体验/的/动人/理由/”/即/有/机会/获得/免费/体验/资格/，/我/已经/参加/了/，/你们/快来/呀/！/！/ /http/://///t/./cn///R7BhYdI\n"
     ]
    }
   ],
   "source": [
    "print '/'.join(jieba.lcut(fw.weibo_train_data.ix[5].context))"
   ]
  },
  {
   "cell_type": "markdown",
   "metadata": {},
   "source": [
    "1. 表情符号（包括emojo和标点符号组成的表情）-> 暂时作为正常值分词\n",
    "2. @某位用户 -> 目前指去除@，用户名正常分词\n",
    "3. 标签## -> 目前先只去除#，标签正常分词\n",
    "4. 链接 -> 正则表达式去除\n",
    "5. 停用词 -> 停用词表去除\n",
    "6. 数字 -> 正则表达式去除\n",
    "7. 标点符号 -> 暂时包括在停用词中去除\n",
    "8. 空格 -> 去除\n",
    "9. 英文 -> 暂时不去除\n",
    "10. 时间日期 -> 暂时不处理"
   ]
  },
  {
   "cell_type": "code",
   "execution_count": 45,
   "metadata": {},
   "outputs": [
    {
     "name": "stdout",
     "output_type": "stream",
     "text": [
      "my/ /nameeeeeeeee/ /is/ /lichen\n"
     ]
    }
   ],
   "source": [
    "print '/'.join(jieba.lcut(\"my nameeeeeeeee is lichen\"))"
   ]
  },
  {
   "cell_type": "code",
   "execution_count": 48,
   "metadata": {},
   "outputs": [
    {
     "name": "stdout",
     "output_type": "stream",
     "text": [
      "[吐]@京东 的用户体验太差了....第一次在京东购物，买了几百的书....真是经历了网购的各种问题...1.货到了，没给发票。2.货到了，2本书，网上显示都发货了，包裹里只有1本，而且没发票...问店家，店家承认另外一本没货...店家让我确认收货才退钱...[思考]。3.没有货物清单...或者清单是一个废弃A4打的\n",
      "#我爱小米手机#因为小米手机4的屏幕太给力了，5英寸的高色彩饱和度夏普 / JDI屏幕，1920x1080全高清分辨率，玩游戏，看高清视频爽爆了。11月18日中午12点开放购买，仅售1999元，希望能买到1台。@小米手机 @卖仙剑的酒剑仙  @海先生V  ，分享免费预约地址http://t.cn/RPkmgBL\n",
      "[doge][喵喵]天猫真是牛....卖实验耗材的都跑天猫去开店了...\n",
      "[doge]找工作╮(╯▽╰)╭……\n",
      "[doge]成功抢了台米4电信~\n"
     ]
    }
   ],
   "source": [
    "for c in fw.weibo_train_data.context[:5]:\n",
    "    print c"
   ]
  },
  {
   "cell_type": "code",
   "execution_count": 89,
   "metadata": {},
   "outputs": [],
   "source": [
    "f=open('../data/stopwords.txt','r')"
   ]
  },
  {
   "cell_type": "code",
   "execution_count": 90,
   "metadata": {},
   "outputs": [],
   "source": [
    "stopwords = [l.strip() for l in f.readlines()]"
   ]
  },
  {
   "cell_type": "code",
   "execution_count": 18,
   "metadata": {},
   "outputs": [
    {
     "name": "stdout",
     "output_type": "stream",
     "text": [
      "而外\n"
     ]
    }
   ],
   "source": [
    "print stopwords[100]"
   ]
  },
  {
   "cell_type": "code",
   "execution_count": 152,
   "metadata": {},
   "outputs": [],
   "source": [
    "text = jieba.lcut(fw.weibo_train_data.context[0])"
   ]
  },
  {
   "cell_type": "code",
   "execution_count": 170,
   "metadata": {},
   "outputs": [],
   "source": [
    "clean = [t for t in text if t not in stopwords]"
   ]
  },
  {
   "cell_type": "code",
   "execution_count": 20,
   "metadata": {},
   "outputs": [
    {
     "ename": "UnicodeDecodeError",
     "evalue": "'ascii' codec can't decode byte 0xe3 in position 0: ordinal not in range(128)",
     "output_type": "error",
     "traceback": [
      "\u001b[0;31m---------------------------------------------------------------------------\u001b[0m\n\u001b[0;31mUnicodeDecodeError\u001b[0m                        Traceback (most recent call last)",
      "\u001b[0;32m<ipython-input-20-995d90a93e63>\u001b[0m in \u001b[0;36m<module>\u001b[0;34m()\u001b[0m\n\u001b[0;32m----> 1\u001b[0;31m \u001b[0mstopwords\u001b[0m\u001b[0;34m[\u001b[0m\u001b[0;36m2\u001b[0m\u001b[0;34m]\u001b[0m\u001b[0;34m.\u001b[0m\u001b[0mencode\u001b[0m\u001b[0;34m(\u001b[0m\u001b[0;34m'utf8'\u001b[0m\u001b[0;34m)\u001b[0m\u001b[0;34m\u001b[0m\u001b[0m\n\u001b[0m",
      "\u001b[0;31mUnicodeDecodeError\u001b[0m: 'ascii' codec can't decode byte 0xe3 in position 0: ordinal not in range(128)"
     ]
    }
   ],
   "source": [
    "stopwords[2].encode('utf8')"
   ]
  },
  {
   "cell_type": "code",
   "execution_count": 91,
   "metadata": {},
   "outputs": [],
   "source": [
    "for i in range(len(stopwords)):\n",
    "    stopwords[i] = stopwords[i].decode('utf8')"
   ]
  },
  {
   "cell_type": "code",
   "execution_count": 78,
   "metadata": {},
   "outputs": [
    {
     "name": "stdout",
     "output_type": "stream",
     "text": [
      "而外\n"
     ]
    }
   ],
   "source": [
    "print stopwords[100]"
   ]
  },
  {
   "cell_type": "code",
   "execution_count": 171,
   "metadata": {},
   "outputs": [
    {
     "name": "stdout",
     "output_type": "stream",
     "text": [
      "吐/京东/ /用户/体验/太差/..../第一次/京东/购物/买/几百/书/..../真是/经历/网购/问题/货到/发票/货到/本书/网上/显示/发货/包裹/里/发票/问/店家/店家/承认/一本/没货/店家/确认/收货/退钱/思考/货物/清单/清单/一个/废弃/A4\n"
     ]
    }
   ],
   "source": [
    "print '/'.join(clean)"
   ]
  },
  {
   "cell_type": "code",
   "execution_count": 138,
   "metadata": {},
   "outputs": [
    {
     "name": "stdout",
     "output_type": "stream",
     "text": [
      "[/吐/]/@/京东/ /的/用户/体验/太差/了/..../第一次/在/京东/购物/，/买/了/几百/的/书/..../真是/经历/了/网购/的/各种/问题/.../1/./货到/了/，/没/给/发票/。/2/./货到/了/，/2/本书/，/网上/显示/都/发货/了/，/包裹/里/只有/1/本/，/而且/没/发票/.../问/店家/，/店家/承认/另外/一本/没货/.../店家/让/我/确认/收货/才/退钱/.../[/思考/]/。/3/./没有/货物/清单/.../或者/清单/是/一个/废弃/A4/打/的\n"
     ]
    }
   ],
   "source": [
    "print '/'.join(jieba.lcut(fw.weibo_train_data.ix[0].context))"
   ]
  },
  {
   "cell_type": "code",
   "execution_count": 246,
   "metadata": {},
   "outputs": [
    {
     "data": {
      "text/plain": [
       "'\\xef\\xbc\\x89'"
      ]
     },
     "execution_count": 246,
     "metadata": {},
     "output_type": "execute_result"
    }
   ],
   "source": [
    "'）'"
   ]
  },
  {
   "cell_type": "code",
   "execution_count": 44,
   "metadata": {},
   "outputs": [
    {
     "data": {
      "text/plain": [
       "'1st\\xe9\\x87\\x8c'"
      ]
     },
     "execution_count": 44,
     "metadata": {},
     "output_type": "execute_result"
    }
   ],
   "source": [
    "'1ST里'.lower()"
   ]
  },
  {
   "cell_type": "code",
   "execution_count": 29,
   "metadata": {},
   "outputs": [
    {
     "name": "stdout",
     "output_type": "stream",
     "text": [
      "了\n"
     ]
    }
   ],
   "source": [
    "print stopwords[212]"
   ]
  },
  {
   "cell_type": "code",
   "execution_count": 62,
   "metadata": {},
   "outputs": [
    {
     "name": "stdout",
     "output_type": "stream",
     "text": [
      "[]\n"
     ]
    }
   ],
   "source": [
    "print re.findall(\"http://.*\\w$\",fw.weibo_train_data.context[9])"
   ]
  },
  {
   "cell_type": "code",
   "execution_count": 103,
   "metadata": {},
   "outputs": [
    {
     "name": "stdout",
     "output_type": "stream",
     "text": [
      "[吐]@京东 的用户体验太差了....第一次在京东购物，买了几百的书....真是经历了网购的各种问题...1.货到了，没给发票。2.货到了，2本书，网上显示都发货了，包裹里只有1本，而且没发票...问店家，店家承认另外一本没货...店家让我确认收货才退钱...[思考]。3.没有货物清单...或者清单是一个废弃A4打的\n",
      "#我爱小米手机#因为小米手机4的屏幕太给力了，5英寸的高色彩饱和度夏普 / JDI屏幕，1920x1080全高清分辨率，玩游戏，看高清视频爽爆了。11月18日中午12点开放购买，仅售1999元，希望能买到1台。@小米手机 @卖仙剑的酒剑仙  @海先生V  ，分享免费预约地址http://t.cn/RPkmgBL\n",
      "[doge][喵喵]天猫真是牛....卖实验耗材的都跑天猫去开店了...\n",
      "[doge]找工作╮(╯▽╰)╭……\n",
      "[doge]成功抢了台米4电信~\n",
      "#魔浪潮爆U5智能耳机#“关注@魔浪蓝牙耳机+转发本微博并@3位好友+#魔浪潮爆U5智能耳机#+免费体验的动人理由”即有机会获得免费体验资格，我已经参加了，你们快来呀！！ http://t.cn/R7BhYdI\n",
      "[可怜] 史上最难登的的网站：http://t.cn/R78fdMf\n",
      "[打脸]前天确认报名。。。。今天卖独家内部资料的电话就来了。。。。\n",
      "双十一后遗症....42码板鞋...全缺货...\n",
      "【论坛源码推荐（6月30日）：iOS开源RSS新闻阅读器 可自动填充的文本框】 http://t.cn/RvuICAU  （分享自@无觅阅读）\n",
      "【Hadoop科普文——常见的45个问题解答】 http://t.cn/Rvrui7S  （分享自@无觅阅读）\n",
      "【MySQL索引原理及慢查询优化】 http://t.cn/RvsXH5D  （分享自@无觅阅读）\n",
      "【网站用户访问速度监测分析项目(1)】 http://t.cn/RPLC0uY  （分享自@无觅阅读）\n",
      "【不同vlan间通信如何实现？】 http://t.cn/RPLOZ49  （分享自@无觅阅读）\n",
      "小伙伴们，快来围观！我已经升级为V6新版微博，简洁的界面带来更流畅的体验。准备好了吗？和我们一起发现新的世界吧！升级猛戳:http://t.cn/R7vgnNI http://t.cn/R7PW0Ng\n",
      "我刚换了“情迷宝丽来”套装，好漂亮，你们都快来试试！ http://weibo.com/home?skinId=skin053\n",
      "5k 的iMac好像很不错\n",
      "今天遇到了两个奇葩\n",
      "没事，只是技术调整\n",
      "自己把脸都抓伤了，所以带上了手套… http://t.cn/Rv3EAY4\n"
     ]
    }
   ],
   "source": [
    "for c in fw.weibo_train_data.context[:20]:\n",
    "    print c"
   ]
  },
  {
   "cell_type": "code",
   "execution_count": 248,
   "metadata": {},
   "outputs": [
    {
     "name": "stdout",
     "output_type": "stream",
     "text": [
      "0.\n",
      "[吐]@京东 的用户体验太差了....第一次在京东购物，买了几百的书....真是经历了网购的各种问题...1.货到了，没给发票。2.货到了，2本书，网上显示都发货了，包裹里只有1本，而且没发票...问店家，店家承认另外一本没货...店家让我确认收货才退钱...[思考]。3.没有货物清单...或者清单是一个废弃A4打的\n",
      "用户|体验|太差|第一次|京东|购物|买|几百|书|真是|经历|网购|问题|货到|发票|货到|本书|网上|显示|发货|包裹|里|发票|问|店家|店家|承认|一本|没货|店家|确认|收货|退钱|货物|清单|清单|一个|废弃|京东\n",
      "1.\n",
      "#我爱小米手机#因为小米手机4的屏幕太给力了，5英寸的高色彩饱和度夏普 / JDI屏幕，1920x1080全高清分辨率，玩游戏，看高清视频爽爆了。11月18日中午12点开放购买，仅售1999元，希望能买到1台。@小米手机 @卖仙剑的酒剑仙  @海先生V  ，分享免费预约地址http://t.cn/RPkmgBL\n",
      "小米|手机|屏幕|太给力|英寸|高|色彩|饱和度|夏普|屏幕|全高清|分辨率|玩游戏|高清|视频|爽爆|中午|点|开放|购买|仅售元|希望|买|台|分享|免费|预约|地址|jdi|我爱小米手机|小米手机|卖仙剑的酒剑仙 |海先生V \n",
      "2.\n",
      "[doge][喵喵]天猫真是牛....卖实验耗材的都跑天猫去开店了...\n",
      "天猫|真是|牛卖|实验|耗材|跑|天猫|开店\n",
      "3.\n",
      "[doge]找工作╮(╯▽╰)╭……\n",
      "找|工作\n",
      "4.\n",
      "[doge]成功抢了台米4电信~\n",
      "成功|抢|台米|电信\n",
      "5.\n",
      "#魔浪潮爆U5智能耳机#“关注@魔浪蓝牙耳机+转发本微博并@3位好友+#魔浪潮爆U5智能耳机#+免费体验的动人理由”即有机会获得免费体验资格，我已经参加了，你们快来呀！！ http://t.cn/R7BhYdI\n",
      "关注|魔浪|蓝牙|耳机|转发|本微博|并位|好友|免费|体验|动人|理由|机会|获得|免费|体验|资格|已经|参加|快来|魔浪潮爆U5智能耳机|魔浪潮爆U5智能耳机\n",
      "6.\n",
      "[可怜] 史上最难登的的网站：http://t.cn/R78fdMf\n",
      "史上|最难|登|网站\n",
      "7.\n",
      "[打脸]前天确认报名。。。。今天卖独家内部资料的电话就来了。。。。\n",
      "前天|确认|报名|今天|卖|独家|内部资料|电话\n",
      "8.\n",
      "双十一后遗症....42码板鞋...全缺货...\n",
      "双十|后遗症|码板|鞋全|缺货\n",
      "9.\n",
      "【论坛源码推荐（6月30日）：iOS开源RSS新闻阅读器 可自动填充的文本框】 http://t.cn/RvuICAU  （分享自@无觅阅读）\n",
      "论坛|源码|推荐|开源|新闻|阅读器|自动|填充|文本框|分享|ios|rss|无觅阅读\n",
      "10.\n",
      "【Hadoop科普文——常见的45个问题解答】 http://t.cn/Rvrui7S  （分享自@无觅阅读）\n",
      "科普|文|常见|问题解答|分享|hadoop|无觅阅读\n",
      "11.\n",
      "【MySQL索引原理及慢查询优化】 http://t.cn/RvsXH5D  （分享自@无觅阅读）\n",
      "索引|原理|及慢|查询|优化|分享|mysql|无觅阅读\n",
      "12.\n",
      "【网站用户访问速度监测分析项目(1)】 http://t.cn/RPLC0uY  （分享自@无觅阅读）\n",
      "网站|用户|访问速度|监测|分析|项目|分享|无觅阅读\n",
      "13.\n",
      "【不同vlan间通信如何实现？】 http://t.cn/RPLOZ49  （分享自@无觅阅读）\n",
      "间通信|实现|分享|vlan|无觅阅读\n",
      "14.\n",
      "小伙伴们，快来围观！我已经升级为V6新版微博，简洁的界面带来更流畅的体验。准备好了吗？和我们一起发现新的世界吧！升级猛戳:http://t.cn/R7vgnNI http://t.cn/R7PW0Ng\n",
      "小伙伴|围观|已经|升级|新版|微博|简洁|界面|带来|流畅|体验|准备|好了吗|一起|发现|新|世界|升级|猛|戳\n",
      "15.\n",
      "我刚换了“情迷宝丽来”套装，好漂亮，你们都快来试试！ http://weibo.com/home?skinId=skin053\n",
      "刚换|情迷|宝丽来|套装|好|漂亮|试试\n",
      "16.\n",
      "5k 的iMac好像很不错\n",
      "好像|不错|imac\n",
      "17.\n",
      "今天遇到了两个奇葩\n",
      "今天|遇到|两个|奇葩\n",
      "18.\n",
      "没事，只是技术调整\n",
      "没事|技术|调整\n",
      "19.\n",
      "自己把脸都抓伤了，所以带上了手套… http://t.cn/Rv3EAY4\n",
      "脸|抓伤|带上|手套\n",
      "20.\n",
      "归乡 http://t.cn/Rv1ifkh\n",
      "归乡\n",
      "21.\n",
      "觉觉的座驾 http://t.cn/RvrX4JV\n",
      "觉觉|座|驾\n",
      "22.\n",
      "觉觉满月纪念 http://t.cn/RPAgpC8\n",
      "觉觉|满月|纪念\n",
      "23.\n",
      "#vscocam http://t.cn/RP5Bl65\n",
      "vscocam\n",
      "24.\n",
      "开始使用#亲宝宝#记录宝宝成长过程了。通过视频、照片、录音和文字记录宝宝的精彩瞬间并永久保存，与亲友私密分享。一款专为亲和宝宝打造的应用哦，快来试试吧>>> http://t.cn/zj45Die\n",
      "使用|记录|宝宝|成长|过程|视频|照片|录音|文字|记录|宝宝|精彩|瞬间|永久|保存|亲友|私密|分享|一款|专为|亲|宝宝|打造|应用|试试|亲宝宝\n",
      "25.\n",
      "清风带来了猫饭和相声届泰斗…的照片… http://t.cn/RP3hroF\n",
      "清风|带来|猫|饭|相声|届|泰斗|照片\n",
      "26.\n",
      "#vscocam brothers http://t.cn/RP15FGS\n",
      "vscocam|brothers\n",
      "27.\n",
      "#vscocam 好基友，从小做起… http://t.cn/RP1ooou\n",
      "好|基友|做起|vscocam\n",
      "28.\n",
      "#vscocam the most beautiful season in Beijing is coming http://t.cn/RPdvcmT\n",
      "vscocam|beautiful|season|beijing|coming\n",
      "29.\n",
      "#vscocam #flower http://t.cn/RhvWlyf\n",
      "flower|vscocam \n",
      "30.\n",
      "#vscocam corner http://t.cn/RhZPIur\n",
      "vscocam|corner\n",
      "31.\n",
      "#hyperlapse 云卷云舒 http://t.cn/RhL73ob\n",
      "云卷云舒|hyperlapse\n",
      "32.\n",
      "orange windmill http://t.cn/Rh4BsIx\n",
      "orange|windmill\n",
      "33.\n",
      "#vscocam rumble fish http://t.cn/RhbSfAo\n",
      "vscocam|rumble|fish\n",
      "34.\n",
      "#vscocam http://t.cn/RhirVNt\n",
      "vscocam\n",
      "35.\n",
      "#vscocam http://t.cn/RhirMVF\n",
      "vscocam\n",
      "36.\n",
      "#vscocam loop http://t.cn/RhaF8kV\n",
      "vscocam|loop\n",
      "37.\n",
      "#vscocam http://t.cn/RhjwZz6\n",
      "vscocam\n",
      "38.\n",
      "#vscocam perfect biger than biger http://t.cn/RhRQkNm\n",
      "vscocam|perfect|biger|biger\n",
      "39.\n",
      "#vscocam Hell Peking http://t.cn/RhFmr6O\n",
      "vscocam|hell|peking\n",
      "40.\n",
      "#vscocam 姥姥给做的手工帽子 http://t.cn/R7zwvsq\n",
      "姥姥|做|手工|帽子|vscocam\n",
      "41.\n",
      "小伙伴们，快来围观！我已经升级为V6新版微博，简洁的界面带来更流畅的体验。准备好了吗？和我们一起发现新的世界吧！升级猛戳:http://t.cn/R7vgnNI http://t.cn/R7PWS7F\n",
      "小伙伴|围观|已经|升级|新版|微博|简洁|界面|带来|流畅|体验|准备|好了吗|一起|发现|新|世界|升级|猛|戳\n",
      "42.\n",
      "#vscocam  http://t.cn/R7M9Tiu\n",
      "vscocam\n",
      "43.\n",
      "#vscocam http://t.cn/R76CfL2\n",
      "vscocam\n",
      "44.\n",
      "#vscocam 心好累，来意大利喂鸽子也不起作用… http://t.cn/R7QxVE5\n",
      "心好|累|意大利|鸽子|不起作用|vscocam\n",
      "45.\n",
      "#vscocam http://t.cn/R73GddO\n",
      "vscocam\n",
      "46.\n",
      "我在 @知乎 回答了【为什么部分开发工程师不喜欢调节界面的 UI 细节？】：很多人的努力程度根本没到拼天赋的地步，同样很多产品也根本没到拼设计的地步。 http://t.cn/R7knBE5\n",
      "回答|部分|开发|工程师|喜欢|调节|界面|细节|人|努力|程度|根本|没到|拼|天赋|地步|同样|产品|根本|没到|拼|设计|地步|ui|知乎\n",
      "47.\n",
      "[Mind Fire] 目的、细节和大局观 http://t.cn/Rzz3dd2\n",
      "目的|细节|大局观\n",
      "48.\n",
      "[Mind Fire] 目的、细节和大局观 http://t.cn/Rzz3dd2\n",
      "目的|细节|大局观\n",
      "49.\n",
      "我听过这张专辑《1701》 -李志 ★★★：些许失落，配器和编曲如此丰富，却淡了情感… http://t.cn/R7e82k5\n",
      "听|这张|专辑|李志|些许|失落|配器|编曲|丰富|却|淡|情感\n",
      "50.\n",
      "#VSCOcam http://t.cn/RzABCfL\n",
      "vscocam\n",
      "51.\n",
      "因为这些歌，特别想去这些地方走走…  分享糖伴西红柿的歌单《地点》http://t.cn/Rzf09lQ（来自@网易云音乐）\n",
      "歌|特别|想|地方|走走|分享|糖伴|西红柿|歌单|地点|来自|网易云音乐\n",
      "52.\n",
      "用来提神醒脑… 分享糖伴西红柿的歌单《Punch》http://t.cn/RzMhqct（来自@网易云音乐）\n",
      "用来|提神醒脑|分享|糖伴|西红柿|歌单|来自|punch|网易云音乐\n",
      "53.\n",
      "#VSCOcam http://t.cn/RzMkv8J\n",
      "vscocam\n",
      "54.\n",
      "远方的朋友，欢迎你到泸沽湖来… 分享左小祖咒/朱婧的单曲《泸沽湖情歌》http://t.cn/RzJ8NdD（来自@网易云音乐）\n",
      "远方|朋友|欢迎|泸沽湖|分享|左小祖咒|朱婧|单曲|泸沽湖|情歌|来自|网易云音乐\n",
      "55.\n",
      "念天念地念知己… 分享二手玫瑰的单曲《仙儿》http://t.cn/RzS7IpA（来自@网易云音乐）\n",
      "念天念|地念|知己|分享|二手|玫瑰|单曲|仙儿|来自|网易云音乐\n",
      "56.\n",
      "#VSCOcam #loop http://t.cn/RzSxp3O\n",
      "loop|VSCOcam \n",
      "57.\n",
      "#VSCOcam Think different  http://t.cn/RzKyT5G\n",
      "vscocam|think|different\n",
      "58.\n",
      "#VSCOcam #HHKB http://t.cn/Rz9536i\n",
      "hhkb|VSCOcam \n",
      "59.\n",
      "#VSCOcam #fullmoon http://t.cn/RzNxOha\n",
      "fullmoon|VSCOcam \n",
      "60.\n",
      " 分享张悬的单曲《玫瑰色的你》http://t.cn/Rz0yPWF（来自@网易云音乐）\n",
      "分享|张悬|单曲|玫瑰色|来自|网易云音乐\n",
      "61.\n",
      " 分享彭坦的单曲《灯塔》http://t.cn/RzOeYbr（来自@网易云音乐）\n",
      "分享|彭坦|单曲|灯塔|来自|网易云音乐\n",
      "62.\n",
      "「为了这次相聚，我连见面时的呼吸都曾反复练习」果然还是内心丰富的人才能唱出感觉… 分享李宗盛的单曲《漂洋过海来看你》http://t.cn/Rzl4GHo（来自@网易云音乐）\n",
      "这次|相聚|见面|时|呼吸|曾|反复|练习|内心|丰富|人才|能唱出|感觉|分享|李宗盛|单曲|漂洋过海|来自|网易云音乐\n",
      "63.\n",
      " 分享逃跑计划的单曲《Is This Love》http://t.cn/Rz3awYh（来自@网易云音乐）\n",
      "分享|逃跑|计划|单曲|来自|love|网易云音乐\n",
      "64.\n",
      "#VSCOcam http://t.cn/Rz1pMnH\n",
      "vscocam\n",
      "65.\n",
      "#VSCOcam http://t.cn/RzF17xI\n",
      "vscocam\n",
      "66.\n",
      "#VSCOcam 中央·地方 http://t.cn/RZvjCex\n",
      "中央|地方|vscocam\n",
      "67.\n",
      "#VSCOcam eagle kite http://t.cn/RZha1wg\n",
      "vscocam|eagle|kite\n",
      "68.\n",
      "家常酸汤鱼 http://t.cn/RZAcinw\n",
      "家常|酸|汤鱼\n",
      "69.\n",
      "我听过这张专辑《愿爱无忧》 -痛仰 ★★★：「盛开」之后，再无痛仰… http://t.cn/RPNqtKm\n",
      "听|这张|专辑|愿爱|无忧|痛仰|盛开|之后|再|无痛|仰\n",
      "70.\n",
      "通过@微盘 下载了@CCL-2014 分享的\"CCL2014_keynote-周志华.pdf\"，推荐给大家！ http://t.cn/R7ooGXV\n",
      "下载|分享|周志华|推荐|ccl|keynote|pdf|微盘|CCL-2014\n",
      "71.\n",
      "感恩节，小快快也来撒会娇！66个红包任你抢，小伙伴的打车红包都被我承包了！有钱，就要撒娇，要的点这里http://t.cn/RztWCEJ\n",
      "感恩节|小|快快|撒会娇|红包|抢|小伙伴|打车|红包|承包|有钱|就要|撒娇|点\n",
      "72.\n",
      "普天同庆快的打车市场份额占6成！66个红包任你抢，所有人的打车红包都被我承包了！有钱，就是任性！要的点这里http://t.cn/RzilTFj\n",
      "普天同庆|打车|市场份额|占成|红包|抢|所有人|打车|红包|承包|有钱|任性|点\n",
      "73.\n",
      "#奔跑吧2015# 看@浙江卫视跨年演唱会 ，送@快的打车 #一亿跨年红包#！要的点这里：http://t.cn/RZLFMf6\n",
      "送|点|奔跑吧2015|一亿跨年红包|浙江卫视跨年演唱会|快的打车\n",
      "74.\n",
      "刚登录#蜻蜓FM# // 终于找到fm神器了，内容爆多，新闻，小说，音乐，相声，脱口秀……想听啥都有，关键还有3000多家电台24小时不间断直播，快去把它收了吧→http://t.cn/S6fTEd（分享自@蜻蜓FM）\n",
      "登录|终于|找到|神器|内容|爆多|新闻|小说|音乐|相声|脱口秀|想|听|关键|多家|电台|小时|不间断|直播|收|fm|蜻蜓FM\n",
      "75.\n",
      "小伙伴们，快来围观！我已经升级为V6新版微博，简洁的界面带来更流畅的体验。准备好了吗？和我们一起发现新的世界吧！升级猛戳:http://t.cn/R7vgnNI http://t.cn/R7PWS7F\n",
      "小伙伴|围观|已经|升级|新版|微博|简洁|界面|带来|流畅|体验|准备|好了吗|一起|发现|新|世界|升级|猛|戳\n",
      "76.\n",
      "没有球的晚上，干活想东西更利索了！\n",
      "球|晚上|干活|想|东西|利索\n",
      "77.\n",
      "关于法律电商，这个创业机会很容易看懂，通过电话或在线的方式降低为中小企业提供法律服务的成本，并通过服务标准化获得规模效益。\n",
      "法律|电商|创业|机会|容易|懂|电话|在线|方式|降低|中小企业|提供|法律|服务|成本|服务|标准化|获得|规模|效益\n",
      "78.\n",
      "http://t.cn/RhSzcyD\n",
      "\n",
      "79.\n",
      "主流消费者需求图谱.\n",
      "主流|消费者|需求|图谱\n"
     ]
    }
   ],
   "source": [
    "import re\n",
    "from nltk.corpus import stopwords as e_stopwords\n",
    "for i,context in enumerate(fw.weibo_train_data.context[0:80]):\n",
    "    print str(i)+'.'\n",
    "    print context\n",
    "    #去除链接\n",
    "    context = re.sub(\"http://[a-zA-z./\\d]*\",\"\",context)\n",
    "    #去除表情符号\n",
    "    context = re.sub(\"\\[.{0,12}\\]\",\"\",context)\n",
    "    #提取tag\n",
    "    tags = re.findall(\"#(.{0,30})#\",context)\n",
    "    context = re.sub(\"#.{0,30}#\",\"\",context)\n",
    "    #提取@某人\n",
    "    at = re.findall(\"@([^@]{0,30})\\s\",context)\n",
    "    context = re.sub(\"@([^@]{0,30})\\s\",\"\",context)\n",
    "    at+= re.findall(\"@([^@]{0,30})）\",context)\n",
    "    context = re.sub(\"@([^@]{0,30})）\",\"\",context)\n",
    "    #英文字母变小写\n",
    "    context  = context.lower()\n",
    "    #找出所有英文字符和单词并提取\n",
    "    english = re.findall(\"[a-z]+\",context)\n",
    "    context = re.sub(\"[a-z]+\",\"\",context)\n",
    "    #去除标点符号\n",
    "    context = re.sub(\"[\\s+\\.\\!\\/_,$%^*(+\\\"\\']+|[+——！，。？、~@#￥%……&*（）]+\".decode(\"utf8\"), \"\",context)\n",
    "    context = re.sub(\"[【】╮╯▽╰╭★→「」]+\".decode(\"utf8\"),\"\",context.decode('utf8'))\n",
    "    #去除空格\n",
    "    context = re.sub(\"\\s\",\"\",context)\n",
    "    #去除所有数字\n",
    "    context = re.sub(\"\\d\",\"\",context)\n",
    "    #去除自己打的省略号\n",
    "    context = re.sub(\"\\.*\",\"\",context)\n",
    "    #分词\n",
    "    text = jieba.lcut(context)\n",
    "    #去除中文停用词\n",
    "    clean = [t for t in text if t not in stopwords]\n",
    "    #去除英文停用词与单个英文字母\n",
    "    e_clean = [t for t in english if t not in e_stopwords.words('english') and len(t) is not 1]\n",
    "    clean+=e_clean\n",
    "    clean+=Series(tags).apply(lambda x:x.decode('utf8')).tolist()\n",
    "    clean+=Series(at).apply(lambda x:x.decode('utf8')).tolist()\n",
    "    \n",
    "    print '|'.join(clean)"
   ]
  },
  {
   "cell_type": "code",
   "execution_count": 165,
   "metadata": {},
   "outputs": [
    {
     "name": "stdout",
     "output_type": "stream",
     "text": [
      "[doge]找工作()……\n"
     ]
    }
   ],
   "source": [
    "print re.sub('[【】╮╯▽╰╭]'.decode('utf8'),\"\",fw.weibo_train_data.context[3].decode('utf8'))"
   ]
  },
  {
   "cell_type": "code",
   "execution_count": 186,
   "metadata": {},
   "outputs": [
    {
     "name": "stdout",
     "output_type": "stream",
     "text": [
      "魔浪潮爆U5智能耳机\n"
     ]
    }
   ],
   "source": [
    "print re.findall(\"#(.{0,30})#\",fw.weibo_train_data.context[5])[1].decode('utf8')"
   ]
  },
  {
   "cell_type": "code",
   "execution_count": 247,
   "metadata": {},
   "outputs": [
    {
     "data": {
      "text/plain": [
       "u'[\\u25bd]'"
      ]
     },
     "execution_count": 247,
     "metadata": {},
     "output_type": "execute_result"
    }
   ],
   "source": [
    "'[▽]'.decode('utf8')"
   ]
  },
  {
   "cell_type": "code",
   "execution_count": 242,
   "metadata": {},
   "outputs": [],
   "source": [
    "re.findall?"
   ]
  },
  {
   "cell_type": "code",
   "execution_count": 235,
   "metadata": {},
   "outputs": [
    {
     "name": "stdout",
     "output_type": "stream",
     "text": [
      "无觅阅读\n"
     ]
    }
   ],
   "source": [
    "print re.findall(\"@(.{0,30})）\",fw.weibo_train_data.context[9])[0]"
   ]
  },
  {
   "cell_type": "code",
   "execution_count": 211,
   "metadata": {},
   "outputs": [
    {
     "ename": "AttributeError",
     "evalue": "'tuple' object has no attribute 'decode'",
     "output_type": "error",
     "traceback": [
      "\u001b[0;31m---------------------------------------------------------------------------\u001b[0m\n\u001b[0;31mAttributeError\u001b[0m                            Traceback (most recent call last)",
      "\u001b[0;32m<ipython-input-211-2e90dda577da>\u001b[0m in \u001b[0;36m<module>\u001b[0;34m()\u001b[0m\n\u001b[0;32m----> 1\u001b[0;31m \u001b[0;32mprint\u001b[0m \u001b[0mat\u001b[0m\u001b[0;34m[\u001b[0m\u001b[0;36m0\u001b[0m\u001b[0;34m]\u001b[0m\u001b[0;34m.\u001b[0m\u001b[0mdecode\u001b[0m\u001b[0;34m(\u001b[0m\u001b[0;34m\"utf8\"\u001b[0m\u001b[0;34m)\u001b[0m\u001b[0;34m\u001b[0m\u001b[0m\n\u001b[0m",
      "\u001b[0;31mAttributeError\u001b[0m: 'tuple' object has no attribute 'decode'"
     ]
    }
   ],
   "source": [
    "print at[0].decode(\"utf8\")"
   ]
  },
  {
   "cell_type": "code",
   "execution_count": 261,
   "metadata": {},
   "outputs": [],
   "source": [
    "a=fw.pd.Series()"
   ]
  },
  {
   "cell_type": "code",
   "execution_count": 262,
   "metadata": {},
   "outputs": [
    {
     "ename": "TypeError",
     "evalue": "cannot concatenate a non-NDFrame object",
     "output_type": "error",
     "traceback": [
      "\u001b[0;31m---------------------------------------------------------------------------\u001b[0m\n\u001b[0;31mTypeError\u001b[0m                                 Traceback (most recent call last)",
      "\u001b[0;32m<ipython-input-262-bb81017f99b0>\u001b[0m in \u001b[0;36m<module>\u001b[0;34m()\u001b[0m\n\u001b[0;32m----> 1\u001b[0;31m \u001b[0ma\u001b[0m\u001b[0;34m.\u001b[0m\u001b[0mappend\u001b[0m\u001b[0;34m(\u001b[0m\u001b[0;34m[\u001b[0m\u001b[0;36m1\u001b[0m\u001b[0;34m,\u001b[0m\u001b[0;36m2\u001b[0m\u001b[0;34m,\u001b[0m\u001b[0;36m3\u001b[0m\u001b[0;34m]\u001b[0m\u001b[0;34m)\u001b[0m\u001b[0;34m\u001b[0m\u001b[0m\n\u001b[0m",
      "\u001b[0;32m/Users/Pro/canopy/lib/python2.7/site-packages/pandas/core/series.pyc\u001b[0m in \u001b[0;36mappend\u001b[0;34m(self, to_append, verify_integrity)\u001b[0m\n\u001b[1;32m   1407\u001b[0m             \u001b[0mto_concat\u001b[0m \u001b[0;34m=\u001b[0m \u001b[0;34m[\u001b[0m\u001b[0mself\u001b[0m\u001b[0;34m,\u001b[0m \u001b[0mto_append\u001b[0m\u001b[0;34m]\u001b[0m\u001b[0;34m\u001b[0m\u001b[0m\n\u001b[1;32m   1408\u001b[0m         return concat(to_concat, ignore_index=False,\n\u001b[0;32m-> 1409\u001b[0;31m                       verify_integrity=verify_integrity)\n\u001b[0m\u001b[1;32m   1410\u001b[0m \u001b[0;34m\u001b[0m\u001b[0m\n\u001b[1;32m   1411\u001b[0m     \u001b[0;32mdef\u001b[0m \u001b[0m_binop\u001b[0m\u001b[0;34m(\u001b[0m\u001b[0mself\u001b[0m\u001b[0;34m,\u001b[0m \u001b[0mother\u001b[0m\u001b[0;34m,\u001b[0m \u001b[0mfunc\u001b[0m\u001b[0;34m,\u001b[0m \u001b[0mlevel\u001b[0m\u001b[0;34m=\u001b[0m\u001b[0mNone\u001b[0m\u001b[0;34m,\u001b[0m \u001b[0mfill_value\u001b[0m\u001b[0;34m=\u001b[0m\u001b[0mNone\u001b[0m\u001b[0;34m)\u001b[0m\u001b[0;34m:\u001b[0m\u001b[0;34m\u001b[0m\u001b[0m\n",
      "\u001b[0;32m/Users/Pro/canopy/lib/python2.7/site-packages/pandas/tools/merge.pyc\u001b[0m in \u001b[0;36mconcat\u001b[0;34m(objs, axis, join, join_axes, ignore_index, keys, levels, names, verify_integrity)\u001b[0m\n\u001b[1;32m    715\u001b[0m                        \u001b[0mignore_index\u001b[0m\u001b[0;34m=\u001b[0m\u001b[0mignore_index\u001b[0m\u001b[0;34m,\u001b[0m \u001b[0mjoin\u001b[0m\u001b[0;34m=\u001b[0m\u001b[0mjoin\u001b[0m\u001b[0;34m,\u001b[0m\u001b[0;34m\u001b[0m\u001b[0m\n\u001b[1;32m    716\u001b[0m                        \u001b[0mkeys\u001b[0m\u001b[0;34m=\u001b[0m\u001b[0mkeys\u001b[0m\u001b[0;34m,\u001b[0m \u001b[0mlevels\u001b[0m\u001b[0;34m=\u001b[0m\u001b[0mlevels\u001b[0m\u001b[0;34m,\u001b[0m \u001b[0mnames\u001b[0m\u001b[0;34m=\u001b[0m\u001b[0mnames\u001b[0m\u001b[0;34m,\u001b[0m\u001b[0;34m\u001b[0m\u001b[0m\n\u001b[0;32m--> 717\u001b[0;31m                        verify_integrity=verify_integrity)\n\u001b[0m\u001b[1;32m    718\u001b[0m     \u001b[0;32mreturn\u001b[0m \u001b[0mop\u001b[0m\u001b[0;34m.\u001b[0m\u001b[0mget_result\u001b[0m\u001b[0;34m(\u001b[0m\u001b[0;34m)\u001b[0m\u001b[0;34m\u001b[0m\u001b[0m\n\u001b[1;32m    719\u001b[0m \u001b[0;34m\u001b[0m\u001b[0m\n",
      "\u001b[0;32m/Users/Pro/canopy/lib/python2.7/site-packages/pandas/tools/merge.pyc\u001b[0m in \u001b[0;36m__init__\u001b[0;34m(self, objs, axis, join, join_axes, keys, levels, names, ignore_index, verify_integrity)\u001b[0m\n\u001b[1;32m    766\u001b[0m         \u001b[0;32mfor\u001b[0m \u001b[0mobj\u001b[0m \u001b[0;32min\u001b[0m \u001b[0mobjs\u001b[0m\u001b[0;34m:\u001b[0m\u001b[0;34m\u001b[0m\u001b[0m\n\u001b[1;32m    767\u001b[0m             \u001b[0;32mif\u001b[0m \u001b[0;32mnot\u001b[0m \u001b[0misinstance\u001b[0m\u001b[0;34m(\u001b[0m\u001b[0mobj\u001b[0m\u001b[0;34m,\u001b[0m \u001b[0mNDFrame\u001b[0m\u001b[0;34m)\u001b[0m\u001b[0;34m:\u001b[0m\u001b[0;34m\u001b[0m\u001b[0m\n\u001b[0;32m--> 768\u001b[0;31m                 \u001b[0;32mraise\u001b[0m \u001b[0mTypeError\u001b[0m\u001b[0;34m(\u001b[0m\u001b[0;34m\"cannot concatenate a non-NDFrame object\"\u001b[0m\u001b[0;34m)\u001b[0m\u001b[0;34m\u001b[0m\u001b[0m\n\u001b[0m\u001b[1;32m    769\u001b[0m \u001b[0;34m\u001b[0m\u001b[0m\n\u001b[1;32m    770\u001b[0m             \u001b[0;31m# consolidate\u001b[0m\u001b[0;34m\u001b[0m\u001b[0;34m\u001b[0m\u001b[0m\n",
      "\u001b[0;31mTypeError\u001b[0m: cannot concatenate a non-NDFrame object"
     ]
    }
   ],
   "source": [
    "a.append([1,2,3])"
   ]
  },
  {
   "cell_type": "code",
   "execution_count": 69,
   "metadata": {},
   "outputs": [
    {
     "data": {
      "text/plain": [
       "u'\\u25bd'"
      ]
     },
     "execution_count": 69,
     "metadata": {},
     "output_type": "execute_result"
    }
   ],
   "source": [
    "'▽'.decode('utf8')"
   ]
  },
  {
   "cell_type": "code",
   "execution_count": 70,
   "metadata": {},
   "outputs": [
    {
     "data": {
      "text/plain": [
       "u'.'"
      ]
     },
     "execution_count": 70,
     "metadata": {},
     "output_type": "execute_result"
    }
   ],
   "source": [
    "'.'.decode('utf8')"
   ]
  },
  {
   "cell_type": "code",
   "execution_count": 72,
   "metadata": {},
   "outputs": [
    {
     "data": {
      "text/plain": [
       "u'\\u2026'"
      ]
     },
     "execution_count": 72,
     "metadata": {},
     "output_type": "execute_result"
    }
   ],
   "source": [
    "'…'.decode('utf8')"
   ]
  },
  {
   "cell_type": "code",
   "execution_count": 258,
   "metadata": {},
   "outputs": [
    {
     "ename": "IndexError",
     "evalue": "index 0 is out of bounds for axis 0 with size 0",
     "output_type": "error",
     "traceback": [
      "\u001b[0;31m---------------------------------------------------------------------------\u001b[0m\n\u001b[0;31mIndexError\u001b[0m                                Traceback (most recent call last)",
      "\u001b[0;32m<ipython-input-258-c47480f4cd6d>\u001b[0m in \u001b[0;36m<module>\u001b[0;34m()\u001b[0m\n\u001b[0;32m----> 1\u001b[0;31m \u001b[0ma\u001b[0m\u001b[0;34m[\u001b[0m\u001b[0;36m0\u001b[0m\u001b[0;34m]\u001b[0m\u001b[0;34m=\u001b[0m\u001b[0;34m[\u001b[0m\u001b[0;36m1\u001b[0m\u001b[0;34m,\u001b[0m\u001b[0;36m2\u001b[0m\u001b[0;34m,\u001b[0m\u001b[0;36m3\u001b[0m\u001b[0;34m]\u001b[0m\u001b[0;34m\u001b[0m\u001b[0m\n\u001b[0m",
      "\u001b[0;32m/Users/Pro/canopy/lib/python2.7/site-packages/pandas/core/series.pyc\u001b[0m in \u001b[0;36m__setitem__\u001b[0;34m(self, key, value)\u001b[0m\n\u001b[1;32m    597\u001b[0m                     and not self.index.inferred_type == 'integer'):\n\u001b[1;32m    598\u001b[0m \u001b[0;34m\u001b[0m\u001b[0m\n\u001b[0;32m--> 599\u001b[0;31m                 \u001b[0mvalues\u001b[0m\u001b[0;34m[\u001b[0m\u001b[0mkey\u001b[0m\u001b[0;34m]\u001b[0m \u001b[0;34m=\u001b[0m \u001b[0mvalue\u001b[0m\u001b[0;34m\u001b[0m\u001b[0m\n\u001b[0m\u001b[1;32m    600\u001b[0m                 \u001b[0;32mreturn\u001b[0m\u001b[0;34m\u001b[0m\u001b[0m\n\u001b[1;32m    601\u001b[0m             \u001b[0;32melif\u001b[0m \u001b[0mkey\u001b[0m \u001b[0;32mis\u001b[0m \u001b[0mEllipsis\u001b[0m\u001b[0;34m:\u001b[0m\u001b[0;34m\u001b[0m\u001b[0m\n",
      "\u001b[0;31mIndexError\u001b[0m: index 0 is out of bounds for axis 0 with size 0"
     ]
    }
   ],
   "source": [
    "a[0]=[1,2,3]"
   ]
  },
  {
   "cell_type": "code",
   "execution_count": 7,
   "metadata": {},
   "outputs": [],
   "source": [
    "import weiboPredict"
   ]
  },
  {
   "cell_type": "code",
   "execution_count": 263,
   "metadata": {},
   "outputs": [
    {
     "data": {
      "text/plain": [
       "<module 'weiboPredict.framework' from '/Users/Pro/Ongoing/weibo/weiboPredict/framework.py'>"
      ]
     },
     "execution_count": 263,
     "metadata": {},
     "output_type": "execute_result"
    }
   ],
   "source": [
    "reload(weiboPredict.framework)"
   ]
  },
  {
   "cell_type": "code",
   "execution_count": 1,
   "metadata": {},
   "outputs": [],
   "source": [
    "from weiboPredict import framework as fw"
   ]
  },
  {
   "cell_type": "code",
   "execution_count": 250,
   "metadata": {},
   "outputs": [
    {
     "data": {
      "text/plain": [
       "'\\xef\\xbc\\x89'"
      ]
     },
     "execution_count": 250,
     "metadata": {},
     "output_type": "execute_result"
    }
   ],
   "source": [
    "'）'"
   ]
  },
  {
   "cell_type": "code",
   "execution_count": 264,
   "metadata": {},
   "outputs": [],
   "source": [
    "fw.loadData()"
   ]
  },
  {
   "cell_type": "code",
   "execution_count": 3,
   "metadata": {},
   "outputs": [
    {
     "name": "stderr",
     "output_type": "stream",
     "text": [
      "Building prefix dict from /Users/Pro/canopy/lib/python2.7/site-packages/jieba/dict.txt ...\n",
      "DEBUG:jieba:Building prefix dict from /Users/Pro/canopy/lib/python2.7/site-packages/jieba/dict.txt ...\n",
      "Loading model from cache /var/folders/rv/scpt0ywn277bqhjg160ms0d40000gp/T/jieba.cache\n",
      "DEBUG:jieba:Loading model from cache /var/folders/rv/scpt0ywn277bqhjg160ms0d40000gp/T/jieba.cache\n",
      "Loading model cost 0.556 seconds.\n",
      "DEBUG:jieba:Loading model cost 0.556 seconds.\n",
      "Prefix dict has been built succesfully.\n",
      "DEBUG:jieba:Prefix dict has been built succesfully.\n"
     ]
    }
   ],
   "source": [
    "tmp = fw.cleanText(fw.weibo_train_data.context[:5])"
   ]
  },
  {
   "cell_type": "code",
   "execution_count": 4,
   "metadata": {},
   "outputs": [
    {
     "name": "stdout",
     "output_type": "stream",
     "text": [
      "爱|小米|手机|小米|手机|屏幕|太给力|英寸|高|色彩|饱和度|夏普|JDI|屏幕|x|全高清|分辨率|玩游戏|高清|视频|爽爆|月|日|中午|点|开放|购买|仅售元|希望|买|台|小米|手机|卖|仙剑|酒剑仙|海|先生|V|分享|免费|预约|地址\n"
     ]
    }
   ],
   "source": [
    "print '|'.join(tmp[1])"
   ]
  },
  {
   "cell_type": "code",
   "execution_count": 296,
   "metadata": {},
   "outputs": [],
   "source": [
    "t = fw.weibo_train_data"
   ]
  },
  {
   "cell_type": "code",
   "execution_count": 97,
   "metadata": {},
   "outputs": [
    {
     "name": "stdout",
     "output_type": "stream",
     "text": [
      "..哈哈｝：:\n"
     ]
    }
   ],
   "source": [
    "print \"..哈哈｝：:\".replace(string.punctuation,\"\")"
   ]
  },
  {
   "cell_type": "code",
   "execution_count": 298,
   "metadata": {},
   "outputs": [
    {
     "data": {
      "text/html": [
       "<div style=\"max-height:1000px;max-width:1500px;overflow:auto;\">\n",
       "<table border=\"1\" class=\"dataframe\">\n",
       "  <thead>\n",
       "    <tr style=\"text-align: right;\">\n",
       "      <th></th>\n",
       "      <th>uid</th>\n",
       "      <th>mid</th>\n",
       "      <th>time</th>\n",
       "      <th>forward_count</th>\n",
       "      <th>comment_count</th>\n",
       "      <th>like_count</th>\n",
       "      <th>context</th>\n",
       "      <th>a</th>\n",
       "    </tr>\n",
       "  </thead>\n",
       "  <tbody>\n",
       "    <tr>\n",
       "      <th>0</th>\n",
       "      <td> 07fc721342df1a4c1992560b582992f8</td>\n",
       "      <td> 5fefc2488f99aba5782baa43096b76dc</td>\n",
       "      <td> 2014-11-04</td>\n",
       "      <td> 0</td>\n",
       "      <td> 7</td>\n",
       "      <td> 2</td>\n",
       "      <td> [吐]@京东 的用户体验太差了....第一次在京东购物，买了几百的书....真是经历了网购的...</td>\n",
       "      <td> [吐, 京东, 用户, 体验, 太差, ...., 第一次, 京东, 购物, 买, 几百, ...</td>\n",
       "    </tr>\n",
       "    <tr>\n",
       "      <th>1</th>\n",
       "      <td> 07fc721342df1a4c1992560b582992f8</td>\n",
       "      <td> 397d9abe2ebf9ba986fe5ab5a6139e11</td>\n",
       "      <td> 2014-11-04</td>\n",
       "      <td> 0</td>\n",
       "      <td> 3</td>\n",
       "      <td> 0</td>\n",
       "      <td> #我爱小米手机#因为小米手机4的屏幕太给力了，5英寸的高色彩饱和度夏普 / JDI屏幕，19...</td>\n",
       "      <td> [爱, 小米, 手机, 小米, 手机, 屏幕, 太给力, 英寸, 高, 色彩, 饱和度, 夏...</td>\n",
       "    </tr>\n",
       "    <tr>\n",
       "      <th>2</th>\n",
       "      <td> 07fc721342df1a4c1992560b582992f8</td>\n",
       "      <td> a2ae3959e9aa21a47993506e2609a4ec</td>\n",
       "      <td> 2014-11-08</td>\n",
       "      <td> 0</td>\n",
       "      <td> 0</td>\n",
       "      <td> 0</td>\n",
       "      <td>              [doge][喵喵]天猫真是牛....卖实验耗材的都跑天猫去开店了...</td>\n",
       "      <td> [doge, 喵, 喵, 天猫, 真是, 牛, ...., 卖, 实验, 耗材, 跑, 天猫...</td>\n",
       "    </tr>\n",
       "    <tr>\n",
       "      <th>3</th>\n",
       "      <td> 07fc721342df1a4c1992560b582992f8</td>\n",
       "      <td> fcc63a086522040a271ba6d1fb604734</td>\n",
       "      <td> 2014-11-09</td>\n",
       "      <td> 0</td>\n",
       "      <td> 6</td>\n",
       "      <td> 0</td>\n",
       "      <td>                                [doge]找工作╮(╯▽╰)╭……</td>\n",
       "      <td>                      [doge, 找, 工作, ╮, ╯, ▽, ╰, ╭]</td>\n",
       "    </tr>\n",
       "    <tr>\n",
       "      <th>4</th>\n",
       "      <td> 07fc721342df1a4c1992560b582992f8</td>\n",
       "      <td> 6ab0f93ab59cbdaf25f4a023642971a6</td>\n",
       "      <td> 2014-11-11</td>\n",
       "      <td> 0</td>\n",
       "      <td> 5</td>\n",
       "      <td> 1</td>\n",
       "      <td>                                  [doge]成功抢了台米4电信~</td>\n",
       "      <td>                             [doge, 成功, 抢, 台米, 电信]</td>\n",
       "    </tr>\n",
       "  </tbody>\n",
       "</table>\n",
       "</div>"
      ],
      "text/plain": [
       "                                uid                               mid  \\\n",
       "0  07fc721342df1a4c1992560b582992f8  5fefc2488f99aba5782baa43096b76dc   \n",
       "1  07fc721342df1a4c1992560b582992f8  397d9abe2ebf9ba986fe5ab5a6139e11   \n",
       "2  07fc721342df1a4c1992560b582992f8  a2ae3959e9aa21a47993506e2609a4ec   \n",
       "3  07fc721342df1a4c1992560b582992f8  fcc63a086522040a271ba6d1fb604734   \n",
       "4  07fc721342df1a4c1992560b582992f8  6ab0f93ab59cbdaf25f4a023642971a6   \n",
       "\n",
       "         time  forward_count  comment_count  like_count  \\\n",
       "0  2014-11-04              0              7           2   \n",
       "1  2014-11-04              0              3           0   \n",
       "2  2014-11-08              0              0           0   \n",
       "3  2014-11-09              0              6           0   \n",
       "4  2014-11-11              0              5           1   \n",
       "\n",
       "                                             context  \\\n",
       "0  [吐]@京东 的用户体验太差了....第一次在京东购物，买了几百的书....真是经历了网购的...   \n",
       "1  #我爱小米手机#因为小米手机4的屏幕太给力了，5英寸的高色彩饱和度夏普 / JDI屏幕，19...   \n",
       "2               [doge][喵喵]天猫真是牛....卖实验耗材的都跑天猫去开店了...   \n",
       "3                                 [doge]找工作╮(╯▽╰)╭……   \n",
       "4                                   [doge]成功抢了台米4电信~   \n",
       "\n",
       "                                                   a  \n",
       "0  [吐, 京东, 用户, 体验, 太差, ...., 第一次, 京东, 购物, 买, 几百, ...  \n",
       "1  [爱, 小米, 手机, 小米, 手机, 屏幕, 太给力, 英寸, 高, 色彩, 饱和度, 夏...  \n",
       "2  [doge, 喵, 喵, 天猫, 真是, 牛, ...., 卖, 实验, 耗材, 跑, 天猫...  \n",
       "3                       [doge, 找, 工作, ╮, ╯, ▽, ╰, ╭]  \n",
       "4                              [doge, 成功, 抢, 台米, 电信]  "
      ]
     },
     "execution_count": 298,
     "metadata": {},
     "output_type": "execute_result"
    }
   ],
   "source": [
    "t.head()"
   ]
  },
  {
   "cell_type": "code",
   "execution_count": 299,
   "metadata": {},
   "outputs": [],
   "source": [
    "tmp.to_csv('test.csv')"
   ]
  },
  {
   "cell_type": "code",
   "execution_count": 9,
   "metadata": {},
   "outputs": [
    {
     "name": "stderr",
     "output_type": "stream",
     "text": [
      "Building prefix dict from /Users/Pro/canopy/lib/python2.7/site-packages/jieba/dict.txt ...\n",
      "DEBUG:jieba:Building prefix dict from /Users/Pro/canopy/lib/python2.7/site-packages/jieba/dict.txt ...\n",
      "Dumping model to file cache /var/folders/rv/scpt0ywn277bqhjg160ms0d40000gp/T/jieba.cache\n",
      "DEBUG:jieba:Dumping model to file cache /var/folders/rv/scpt0ywn277bqhjg160ms0d40000gp/T/jieba.cache\n",
      "Loading model cost 2.045 seconds.\n",
      "DEBUG:jieba:Loading model cost 2.045 seconds.\n",
      "Prefix dict has been built succesfully.\n",
      "DEBUG:jieba:Prefix dict has been built succesfully.\n"
     ]
    },
    {
     "name": "stdout",
     "output_type": "stream",
     "text": [
      "10000/1229618\n",
      "20000/1229618\n",
      "30000/1229618\n",
      "40000/1229618\n",
      "50000/1229618\n",
      "60000/1229618\n",
      "70000/1229618\n",
      "80000/1229618\n",
      "90000/1229618\n",
      "100000/1229618\n",
      "110000/1229618\n",
      "120000/1229618\n",
      "130000/1229618\n",
      "140000/1229618\n",
      "150000/1229618\n",
      "160000/1229618\n",
      "170000/1229618\n",
      "180000/1229618\n",
      "190000/1229618\n",
      "200000/1229618\n",
      "210000/1229618\n",
      "220000/1229618\n",
      "230000/1229618\n",
      "240000/1229618\n",
      "250000/1229618\n",
      "260000/1229618\n",
      "270000/1229618\n",
      "280000/1229618\n",
      "290000/1229618\n",
      "300000/1229618\n",
      "310000/1229618\n",
      "320000/1229618\n",
      "330000/1229618\n",
      "340000/1229618\n",
      "350000/1229618\n",
      "360000/1229618\n",
      "370000/1229618\n",
      "380000/1229618\n",
      "390000/1229618\n",
      "400000/1229618\n",
      "410000/1229618\n",
      "420000/1229618\n",
      "430000/1229618\n",
      "440000/1229618\n",
      "450000/1229618\n",
      "460000/1229618\n",
      "470000/1229618\n",
      "480000/1229618\n",
      "490000/1229618\n",
      "500000/1229618\n",
      "510000/1229618\n",
      "520000/1229618\n",
      "530000/1229618\n",
      "540000/1229618\n",
      "550000/1229618\n",
      "560000/1229618\n",
      "570000/1229618\n",
      "580000/1229618\n",
      "590000/1229618\n",
      "600000/1229618\n",
      "610000/1229618\n",
      "620000/1229618\n",
      "630000/1229618\n",
      "640000/1229618\n",
      "650000/1229618\n",
      "660000/1229618\n",
      "670000/1229618\n",
      "680000/1229618\n",
      "690000/1229618\n",
      "700000/1229618\n",
      "710000/1229618\n",
      "720000/1229618\n",
      "730000/1229618\n",
      "740000/1229618\n",
      "750000/1229618\n",
      "760000/1229618\n",
      "770000/1229618\n",
      "780000/1229618\n",
      "790000/1229618\n",
      "800000/1229618\n"
     ]
    },
    {
     "ename": "TypeError",
     "evalue": "expected string or buffer",
     "output_type": "error",
     "traceback": [
      "\u001b[0;31m---------------------------------------------------------------------------\u001b[0m\n\u001b[0;31mTypeError\u001b[0m                                 Traceback (most recent call last)",
      "\u001b[0;32m<ipython-input-9-e2c1ee8e9e99>\u001b[0m in \u001b[0;36m<module>\u001b[0;34m()\u001b[0m\n\u001b[0;32m----> 1\u001b[0;31m \u001b[0mclean_context\u001b[0m \u001b[0;34m=\u001b[0m \u001b[0mfw\u001b[0m\u001b[0;34m.\u001b[0m\u001b[0mcleanText\u001b[0m\u001b[0;34m(\u001b[0m\u001b[0mfw\u001b[0m\u001b[0;34m.\u001b[0m\u001b[0mweibo_train_data\u001b[0m\u001b[0;34m.\u001b[0m\u001b[0mcontext\u001b[0m\u001b[0;34m)\u001b[0m\u001b[0;34m\u001b[0m\u001b[0m\n\u001b[0m",
      "\u001b[0;32m/Users/Pro/Ongoing/weibo/weiboPredict/framework.py\u001b[0m in \u001b[0;36mcleanText\u001b[0;34m(contexts)\u001b[0m\n\u001b[1;32m     72\u001b[0m         \u001b[0;32mfor\u001b[0m \u001b[0mcontext\u001b[0m \u001b[0;32min\u001b[0m \u001b[0mcontexts\u001b[0m\u001b[0;34m:\u001b[0m\u001b[0;34m\u001b[0m\u001b[0m\n\u001b[1;32m     73\u001b[0m             \u001b[0;31m# remove links\u001b[0m\u001b[0;34m\u001b[0m\u001b[0;34m\u001b[0m\u001b[0m\n\u001b[0;32m---> 74\u001b[0;31m             \u001b[0mcontext\u001b[0m \u001b[0;34m=\u001b[0m \u001b[0mre\u001b[0m\u001b[0;34m.\u001b[0m\u001b[0msub\u001b[0m\u001b[0;34m(\u001b[0m\u001b[0;34m\"http://[a-zA-z./\\d]*\"\u001b[0m\u001b[0;34m,\u001b[0m\u001b[0;34m\"\"\u001b[0m\u001b[0;34m,\u001b[0m\u001b[0mcontext\u001b[0m\u001b[0;34m)\u001b[0m\u001b[0;34m\u001b[0m\u001b[0m\n\u001b[0m\u001b[1;32m     75\u001b[0m             \u001b[0;31m# remove emojo\u001b[0m\u001b[0;34m\u001b[0m\u001b[0;34m\u001b[0m\u001b[0m\n\u001b[1;32m     76\u001b[0m             \u001b[0mcontext\u001b[0m \u001b[0;34m=\u001b[0m \u001b[0mre\u001b[0m\u001b[0;34m.\u001b[0m\u001b[0msub\u001b[0m\u001b[0;34m(\u001b[0m\u001b[0;34m\"\\[.{0,12}\\]\"\u001b[0m\u001b[0;34m,\u001b[0m\u001b[0;34m\"\"\u001b[0m\u001b[0;34m,\u001b[0m\u001b[0mcontext\u001b[0m\u001b[0;34m)\u001b[0m\u001b[0;34m\u001b[0m\u001b[0m\n",
      "\u001b[0;32m/Applications/Canopy.app/appdata/canopy-1.4.1.1975.macosx-x86_64/Canopy.app/Contents/lib/python2.7/re.pyc\u001b[0m in \u001b[0;36msub\u001b[0;34m(pattern, repl, string, count, flags)\u001b[0m\n\u001b[1;32m    149\u001b[0m     \u001b[0ma\u001b[0m \u001b[0mcallable\u001b[0m\u001b[0;34m,\u001b[0m \u001b[0mit\u001b[0m\u001b[0;31m'\u001b[0m\u001b[0ms\u001b[0m \u001b[0mpassed\u001b[0m \u001b[0mthe\u001b[0m \u001b[0mmatch\u001b[0m \u001b[0mobject\u001b[0m \u001b[0;32mand\u001b[0m \u001b[0mmust\u001b[0m \u001b[0;32mreturn\u001b[0m\u001b[0;34m\u001b[0m\u001b[0m\n\u001b[1;32m    150\u001b[0m     a replacement string to be used.\"\"\"\n\u001b[0;32m--> 151\u001b[0;31m     \u001b[0;32mreturn\u001b[0m \u001b[0m_compile\u001b[0m\u001b[0;34m(\u001b[0m\u001b[0mpattern\u001b[0m\u001b[0;34m,\u001b[0m \u001b[0mflags\u001b[0m\u001b[0;34m)\u001b[0m\u001b[0;34m.\u001b[0m\u001b[0msub\u001b[0m\u001b[0;34m(\u001b[0m\u001b[0mrepl\u001b[0m\u001b[0;34m,\u001b[0m \u001b[0mstring\u001b[0m\u001b[0;34m,\u001b[0m \u001b[0mcount\u001b[0m\u001b[0;34m)\u001b[0m\u001b[0;34m\u001b[0m\u001b[0m\n\u001b[0m\u001b[1;32m    152\u001b[0m \u001b[0;34m\u001b[0m\u001b[0m\n\u001b[1;32m    153\u001b[0m \u001b[0;32mdef\u001b[0m \u001b[0msubn\u001b[0m\u001b[0;34m(\u001b[0m\u001b[0mpattern\u001b[0m\u001b[0;34m,\u001b[0m \u001b[0mrepl\u001b[0m\u001b[0;34m,\u001b[0m \u001b[0mstring\u001b[0m\u001b[0;34m,\u001b[0m \u001b[0mcount\u001b[0m\u001b[0;34m=\u001b[0m\u001b[0;36m0\u001b[0m\u001b[0;34m,\u001b[0m \u001b[0mflags\u001b[0m\u001b[0;34m=\u001b[0m\u001b[0;36m0\u001b[0m\u001b[0;34m)\u001b[0m\u001b[0;34m:\u001b[0m\u001b[0;34m\u001b[0m\u001b[0m\n",
      "\u001b[0;31mTypeError\u001b[0m: expected string or buffer"
     ]
    }
   ],
   "source": [
    "clean_context = fw.cleanText(fw.weibo_train_data.context)"
   ]
  },
  {
   "cell_type": "code",
   "execution_count": null,
   "metadata": {},
   "outputs": [],
   "source": [
    "predict_clean_text = fw.cleanText(fw.weibo_predict_data.context)"
   ]
  },
  {
   "cell_type": "code",
   "execution_count": 8,
   "metadata": {},
   "outputs": [
    {
     "data": {
      "text/plain": [
       "0    [吐, 京东, 用户, 体验, 太差, ...., 第一次, 京东, 购物, 买, 几百, ...\n",
       "1    [爱, 小米, 手机, 小米, 手机, 屏幕, 太给力, 英寸, 高, 色彩, 饱和度, 夏...\n",
       "2    [doge, 喵, 喵, 天猫, 真是, 牛, ...., 卖, 实验, 耗材, 跑, 天猫...\n",
       "3                         [doge, 找, 工作, ╮, ╯, ▽, ╰, ╭]\n",
       "4                                [doge, 成功, 抢, 台米, 电信]\n",
       "dtype: object"
      ]
     },
     "execution_count": 8,
     "metadata": {},
     "output_type": "execute_result"
    }
   ],
   "source": [
    "clean_context.head()"
   ]
  },
  {
   "cell_type": "code",
   "execution_count": 18,
   "metadata": {},
   "outputs": [],
   "source": [
    "clean_context = clean_context.apply(lambda x:json.dumps(x))"
   ]
  },
  {
   "cell_type": "code",
   "execution_count": 19,
   "metadata": {},
   "outputs": [],
   "source": [
    "clean_context.to_csv('../data/train_context_clean.csv')"
   ]
  },
  {
   "cell_type": "code",
   "execution_count": 16,
   "metadata": {},
   "outputs": [],
   "source": [
    "predict_clean_text = predict_clean_text.apply(lambda x:json.dumps(x))"
   ]
  },
  {
   "cell_type": "code",
   "execution_count": 17,
   "metadata": {},
   "outputs": [],
   "source": [
    "predict_clean_text.to_csv('../data/predict_context_clean.csv')"
   ]
  },
  {
   "cell_type": "code",
   "execution_count": 257,
   "metadata": {},
   "outputs": [],
   "source": [
    "a=[]"
   ]
  },
  {
   "cell_type": "code",
   "execution_count": 258,
   "metadata": {},
   "outputs": [],
   "source": [
    "b=[1,2]"
   ]
  },
  {
   "cell_type": "code",
   "execution_count": 259,
   "metadata": {},
   "outputs": [],
   "source": [
    "a.append(b)"
   ]
  },
  {
   "cell_type": "code",
   "execution_count": 10,
   "metadata": {},
   "outputs": [],
   "source": [
    "import json"
   ]
  },
  {
   "cell_type": "code",
   "execution_count": 261,
   "metadata": {},
   "outputs": [],
   "source": [
    "a.append(b)"
   ]
  },
  {
   "cell_type": "code",
   "execution_count": 262,
   "metadata": {},
   "outputs": [
    {
     "data": {
      "text/plain": [
       "[[1, 2], [1, 2]]"
      ]
     },
     "execution_count": 262,
     "metadata": {},
     "output_type": "execute_result"
    }
   ],
   "source": [
    "a"
   ]
  },
  {
   "cell_type": "code",
   "execution_count": 270,
   "metadata": {},
   "outputs": [
    {
     "data": {
      "text/plain": [
       "250                          [小米, 路由, 工作, 小米, 路由器, mini]\n",
       "251                      [小米, 路由, 准备, 工作, 小米, 路由器, mini]\n",
       "252      [路由器, 电源, 需要, 做, 宽大, 干着急, 插, 直, 郁闷, 人雷军, 小米路由器]\n",
       "253    [喜欢, 发好, 图, 人, 品味, 不坏, 获得, 豌豆荚, 设计奖, 最美, 图片, 社...\n",
       "254    [升级, 一下, 磁盘格式, 支持, 发现, 一个, 新, 问题, 一个, 移动硬盘, 含个...\n",
       "255    [广播, 说, 科学研究, 大量, 统计, 已经, 证明, 季节, 出生, 人, 具备, 性...\n",
       "256                                     [桌上, 南瓜, 君, 小玩意]\n",
       "257                                             [秋, 花草集]\n",
       "258                              [黑暗, 中, 玻璃杯, 来自, 微可, 拍]\n",
       "259                                    [黑暗, 中, 玻璃杯, 小玩意]\n",
       "260      [图钉, 照片, 视频, 直播, 小, 生活, 速度, 下载, 围观, Grinch1982]\n",
       "261           [图钉, 照片, 视频, 直播, 小, 生活, 速度, 下载, 围观, 图虫摄影网]\n",
       "262       [图钉, 照片, 视频, 直播, 小, 生活, 速度, 下载, 围观, 一郎Lithium]\n",
       "263             [图钉, 照片, 视频, 直播, 小, 生活, 速度, 下载, 围观, 喜瓜网]\n",
       "264             [图钉, 照片, 视频, 直播, 小, 生活, 速度, 下载, 围观, 花瓣网]\n",
       "265          [图钉, 照片, 视频, 直播, 小, 生活, 速度, 下载, 围观, 摄影师林海音]\n",
       "266        [图钉, 照片, 视频, 直播, 小, 生活, 速度, 下载, 围观, MetroSet]\n",
       "267          [图钉, 照片, 视频, 直播, 小, 生活, 速度, 下载, 围观, 摄影师李小蕾]\n",
       "268           [图钉, 照片, 视频, 直播, 小, 生活, 速度, 下载, 围观, POCO网]\n",
       "269    [喜欢, 发好, 图, 人, 品味, 不坏, 获得, 豌豆荚, 设计奖, 最美, 图片, 社...\n",
       "dtype: object"
      ]
     },
     "execution_count": 270,
     "metadata": {},
     "output_type": "execute_result"
    }
   ],
   "source": [
    "clean_context[250:270]"
   ]
  },
  {
   "cell_type": "code",
   "execution_count": 273,
   "metadata": {},
   "outputs": [
    {
     "name": "stdout",
     "output_type": "stream",
     "text": [
      "秋 #花草集#  http://t.cn/R70TGvn (免费下载http://t.cn/zj9vjC3 )\n"
     ]
    }
   ],
   "source": [
    "print fw.weibo_train_data.context[257].decode('utf8')"
   ]
  },
  {
   "cell_type": "code",
   "execution_count": 276,
   "metadata": {},
   "outputs": [
    {
     "name": "stdout",
     "output_type": "stream",
     "text": [
      "秋/花草集\n"
     ]
    }
   ],
   "source": [
    "print '/'.join(clean_context[257])"
   ]
  },
  {
   "cell_type": "code",
   "execution_count": 277,
   "metadata": {},
   "outputs": [
    {
     "name": "stdout",
     "output_type": "stream",
     "text": [
      "路由器电源需要做这么宽大吗？干着急，差一点就是插不进去，直郁闷人@小米路由器 @雷军\n"
     ]
    }
   ],
   "source": [
    "print fw.weibo_train_data.context[252].decode('utf8')"
   ]
  },
  {
   "cell_type": "code",
   "execution_count": 278,
   "metadata": {},
   "outputs": [
    {
     "name": "stdout",
     "output_type": "stream",
     "text": [
      "路由器/电源/需要/做/宽大/干着急/插/直/郁闷/人雷军/小米路由器\n"
     ]
    }
   ],
   "source": [
    "print '/'.join(clean_context[252])"
   ]
  },
  {
   "cell_type": "code",
   "execution_count": 11,
   "metadata": {},
   "outputs": [
    {
     "name": "stdout",
     "output_type": "stream",
     "text": [
      "Automatic pdb calling has been turned ON\n"
     ]
    }
   ],
   "source": [
    "pdb"
   ]
  },
  {
   "cell_type": "code",
   "execution_count": null,
   "metadata": {},
   "outputs": [],
   "source": [
    "import re\n",
    "for i,context in enumerate(fw.weibo_train_data.context):\n",
    "    context = re.sub(\"http://[a-zA-z./\\d]*\",\"\",context)\n",
    "    print i"
   ]
  },
  {
   "cell_type": "code",
   "execution_count": null,
   "metadata": {},
   "outputs": [],
   "source": []
  }
 ],
 "metadata": {
  "kernelspec": {
   "display_name": "Python 3",
   "language": "python",
   "name": "python3"
  },
  "language_info": {
   "codemirror_mode": {
    "name": "ipython",
    "version": 3
   },
   "file_extension": ".py",
   "mimetype": "text/x-python",
   "name": "python",
   "nbconvert_exporter": "python",
   "pygments_lexer": "ipython3",
   "version": "3.7.3"
  }
 },
 "nbformat": 4,
 "nbformat_minor": 1
}
