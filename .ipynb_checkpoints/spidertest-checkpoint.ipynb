{
 "cells": [
  {
   "cell_type": "code",
   "execution_count": 1,
   "metadata": {},
   "outputs": [
    {
     "name": "stdout",
     "output_type": "stream",
     "text": [
      "eJxNj81uozAURl8lOxZEMQYH4kpdBIZRoGkJAdyWahY4QIAEwj9Jq3n3wUSdmYWlc4/vJ333i6uNkHuYQUHAgjCfcX1UjyMHF8JC5sa5bdjvUsYII6QoKyyN8vC/XX5bWpMfo/5QZGU+EyX0a3J7pj7gUpLns5XM5PcwbYiIvWnVYJtc0rZl8wDAkCzyKG27oFgcLjkYuUlSQMeiMmDFOJbJ3SkjCWgOIWb6jvId5RHRHVcjwilzmjKMgr/U/nPP7HyWadJjwTgyhzBzobX+1O0k4p2hIuCcO24W2VrpmVqoXo+NFvv6a6v471i1PKOzT7FavhmWWtWSHBWYPq3Tnf7W1yoka91PqmF7xbbn8H0vQSAVZbo9ZzviRZ2/WaYXn5Aghy9duTed21PpdeefoEZ5nLd78YX3r9DuDOv1PXKyjUZv9BNv9jkcTqQySnIWt21CrLGRhmBKxLJ3QabeFK0mrlhl8SrmxfDSgt7kI3G90+0hocPueWMF9YGWKEwOjXUsKA1ogdRGhSawHx+5338AyCSdOg==\n"
     ]
    }
   ],
   "source": [
    "import requests\n",
    "import json,base64,zlib,datetime\n",
    "import math\n",
    "import pandas as pd\n",
    "import os\n",
    "\n",
    "def decode_token(token):\n",
    "    # base64解码\n",
    "    token_decode = base64.b64decode(token.encode())\n",
    "    # 二进制解压\n",
    "    token_string = zlib.decompress(token_decode)\n",
    "    return token_string\n",
    "\n",
    "def encode_token(POI):\n",
    "    ##结合武汉地区POI编号字符串\n",
    "    strPOI = \"https://wh.meituan.com/meishi/\"+str(POI)+\"/\"\n",
    "    # 生成token\n",
    "    ts = int(datetime.datetime.now().timestamp() * 1000)\n",
    "    token_dict = {\n",
    "        'rId': 100900,\n",
    "        'ver': '1.0.6',\n",
    "        'ts': ts,\n",
    "        'cts': ts + 100 * 1000,\n",
    "        'brVD': [767,234],\n",
    "        'brR': [[1536,864],[1536,834],24,24],\n",
    "        'bI': [strPOI,\"\"],\n",
    "        'mT': [\"304,119\",\"304,116\",\"306,114\",\"308,111\"],\n",
    "        'kT': [],\n",
    "        'aT': [],\n",
    "        'tT': [],\n",
    "        'aM': '',\n",
    "        'sign': \"eJwdjT1OAzEQhe+SwqV/lmSTjeQCpUJCdBxgsCfZEWt7ZY9BOUIuQkfBpXIOBqr36en9bKAiPEXvrB1VAEZhqwLx9QUS+vv31/3npiLljPVUeuZH5ioZVVam1NupRJSyKpUulF/r4mfmtR2N+Zx1QuIOWYeSjHCbybz9HRm1wkVqIpVl2LthVOsCfC41iV2pvT/jBy7CrVT2qjf8f+2dot/vJ+e2APEQwhbwPMHOarcbp4dhcsOgnbbabn4BsB1J/Q==\"\n",
    "    }\n",
    "    # 二进制编码\n",
    "    encode = str(token_dict).encode()\n",
    "    # 二进制压缩\n",
    "    compress = zlib.compress(encode)\n",
    "    # base64编码\n",
    "    b_encode = base64.b64encode(compress)\n",
    "    # 转为字符串\n",
    "    token = str(b_encode, encoding='utf-8')\n",
    "    return token\n",
    "\n",
    "\n",
    "token = encode_token(\"b1006\")\n",
    "print(token)"
   ]
  },
  {
   "cell_type": "code",
   "execution_count": 2,
   "metadata": {},
   "outputs": [
    {
     "name": "stdout",
     "output_type": "stream",
     "text": [
      "1569494477901\n",
      "2019-09-26 18:41:17.901780\n",
      "1549953135\n",
      "2019-02-12 14:33:53\n"
     ]
    }
   ],
   "source": [
    "import datetime,time\n",
    " \n",
    "current_time = time.time()\n",
    " \n",
    "# 秒\n",
    "seconds = int(current_time)\n",
    " \n",
    "# 毫秒\n",
    "mseconds= int(current_time*1000)\n",
    "print(mseconds)\n",
    "# 日期、时间格式化输出。%f可以输出微秒\n",
    "print (datetime.datetime.now().strftime('%Y-%m-%d %H:%M:%S.%f'))\n",
    " \n",
    "# 日期转秒\n",
    "dt = '2019-02-12 14:32:15'\n",
    "ts = int(time.mktime(time.strptime(dt, \"%Y-%m-%d %H:%M:%S\")))\n",
    "print(ts)\n",
    " \n",
    "# 秒转日期。\n",
    "ts = 1549953233.456123\n",
    "dt = time.strftime(\"%Y-%m-%d %H:%M:%S\", time.localtime(ts))\n",
    "print(dt)"
   ]
  },
  {
   "cell_type": "code",
   "execution_count": 3,
   "metadata": {},
   "outputs": [
    {
     "name": "stdout",
     "output_type": "stream",
     "text": [
      "https://wh.meituan.com/meishi/api/poi/getPoiList?cityName=%E6%AD%A6%E6%B1%89&cateId=0&areaId=1006&sort=&dinnerCountAttrId=&page=1&uuid=2be5ac5e-e04a-11e9-a240-7470fd3860bb&userId=0&platform=1&partner=126&originUrl=https%3A%2F%2Fwh.meituan.com%2Fmeishi%2Fb1006%2F&riskLevel=1&optimusCode=10&_token=eJxNj81uozAURl8lOxZEMQYH4kpdBIZRoGkJAdyWahY4QIAEwj9Jq3n3wUSdmYWlc4%2FvJ333i6uNkHuYQUHAgjCfcX1UjyMHF8JC5sa5bdjvUsYII6QoKyyN8vC%2FXX5bWpMfo%2F5QZGU%2BEyX0a3J7pj7gUpLns5XM5PcwbYiIvWnVYJtc0rZl8wDAkCzyKG27oFgcLjkYuUlSQMeiMmDFOJbJ3SkjCWgOIWb6jvId5RHRHVcjwilzmjKMgr%2FU%2FnPP7HyWadJjwTgyhzBzobX%2B1O0k4p2hIuCcO24W2VrpmVqoXo%2BNFvv6a6v471i1PKOzT7FavhmWWtWSHBWYPq3Tnf7W1yoka91PqmF7xbbn8H0vQSAVZbo9ZzviRZ2%2FWaYXn5Aghy9duTed21PpdeefoEZ5nLd78YX3r9DuDOv1PXKyjUZv9BNv9jkcTqQySnIWt21CrLGRhmBKxLJ3QabeFK0mrlhl8SrmxfDSgt7kI3G90%2B0hocPueWMF9YGWKEwOjXUsKA1ogdRGhSawHx%2B5338AyCSdOg%3D%3D\n",
      "{'status': 0, 'data': {'totalCounts': 865, 'poiInfos': [{'poiId': 163479631, 'frontImg': 'https://img.meituan.net/180.180/msmerchant/4ceb6d9d94dc518f1efac0e6bdbdd2e41036785.jpg@600w_600h_1l', 'title': '一百根小肫肝火锅串串（光谷旗舰店）', 'avgScore': 4.8, 'allCommentNum': 1174, 'address': '洪山区光谷街风度柏林三期门面3号', 'avgPrice': 56, 'dealList': [{'title': '2-3人串串套餐', 'price': 88, 'soldCounts': 3556}, {'title': '豪华版双人餐，提供免费WiFi', 'price': 99, 'soldCounts': 1727}, {'title': '4-5人串串套餐', 'price': 129, 'soldCounts': 639}, {'title': '聚会优享餐，建议8人使用', 'price': 239, 'soldCounts': 130}, {'title': '3-4人串串套餐', 'price': 109, 'soldCounts': 6161}, {'title': '100元代金券1张，可叠加', 'price': 88, 'soldCounts': 1580}], 'hasAds': True, 'adsClickUrl': 'https://mlog.dianping.com/api/cpv/billing?ad_cj=yPSmIad09nBpTD-qT_Z8C0FHhpbr1nM-UrUJzhCTpsqXeiRfa1ePXJlm6vhOTzsvJKft0ftjtd18EkJXYJ4lVIaLNngaUlCYD12EgaNfrTYXVVFzFxR3jqp8UwmuBS7Vm42SA23u5_ir2ECXy_vU0THmzpzFpxwEWnZpx2pBdVMDEwsNJ7kHDYb4Hst3iuHa0Q4-FxfeJEUHQuGaqu6B5KkdsQS8y10-JeWenTZ9V6KRIxdDrIcylt_b6fSRrfMZ5y_tsDwW0QpCJiR3x1XmVwHD3SKxNTR4qGzWi6ArITOsVuBGTBlfPgDj6GpQFQxrBzJ-EbOyDP5e-9prrgav7Q9wOxV4feAphID50QRNAzClM8OjcI8jTv1ehPgNeYe2&sver=2&ad_v=1&ad_ci=yPSmIadmKsw5ZCGkLLVsC0MuwbgoUSG2Hk2_QVX3zQ2lyQLWxuMTSwb9XHjQ6Eer1rOcQvLbHLRM_GLWHQ4uVVpSO1ddGE93-VYbNek15X0&act=2', 'adsShowUrl': 'https://mlog.dianping.com/api/cpv/action?ad_cj=yPSmIad09nBpTD-qT_Z8C0FHhpbr1nM-UrUJzhCTpsqXeiRfa1ePXJlm6vhOTzsvJKft0ftjtd18EkJXYJ4lVIaLNngaUlCYD12EgaNfrTYXVVFzFxR3jqp8UwmuBS7Vm42SA23u5_ir2ECXy_vU0THmzpzFpxwEWnZpx2pBdVMDEwsNJ7kHDYb4Hst3iuHa0Q4-FxfeJEUHQuGaqu6B5KkdsQS8y10-JeWenTZ9V6KRIxdDrIcylt_b6fSRrfMZ5y_tsDwW0QpCJiR3x1XmVwHD3SKxNTR4qGzWi6ArITOsVuBGTBlfPgDj6GpQFQxrBzJ-EbOyDP5e-9prrgav7Q9wOxV4feAphID50QRNAzClM8OjcI8jTv1ehPgNeYe2&sver=2&ad_v=1&ad_ci=yPSmIadmKsw5ZCGkLLVsC0MuwbgoUSG2Hk2_QVX3zQ2lyQLWxuMTSwb9XHjQ6Eer1rOcQvLbHLRM_GLWHQ4uVVpSO1ddGE93-VYbNek15X0&act=3'}, {'poiId': 74779, 'frontImg': 'https://img.meituan.net/600.600/msmerchant/c79088d1bfc08f3565e246158f7e9e0438782.jpg', 'title': '秀玉红茶坊（光谷二期店）', 'avgScore': 5, 'allCommentNum': 26303, 'address': '洪山区珞瑜路726号光谷步行街2期西班牙风情街3楼（近鲁巷转盘）', 'avgPrice': 50, 'dealList': [{'title': '精致双人餐，提供免费WiFi', 'price': 112, 'soldCounts': 2530}, {'title': '乐享家庭套餐，建议3-4人使用', 'price': 218, 'soldCounts': 1859}, {'title': '80元代金券1张，可叠加', 'price': 75, 'soldCounts': 41153}], 'hasAds': False, 'adsClickUrl': '', 'adsShowUrl': ''}, {'poiId': 2464754, 'frontImg': 'http://p0.meituan.net/600.600/bbia/8a1c4cf9fe38e29e51e0034380c6767c258112.jpg', 'title': '捞旺猪肚鸡（光谷店）', 'avgScore': 5, 'allCommentNum': 19520, 'address': '洪山区珞瑜路887号（鲁巷购物广场斜对面，碧水花园旁边）', 'avgPrice': 66, 'dealList': [{'title': '75元代金券1张，可叠加', 'price': 67, 'soldCounts': 6818}, {'title': '【海鲜锅】双人餐', 'price': 198, 'soldCounts': 18}, {'title': '【火爆】双人餐，提供免费WiFi', 'price': 99.9, 'soldCounts': 2772}, {'title': '【经典】四人餐，提供免费WiFi', 'price': 229.9, 'soldCounts': 1497}, {'title': '【超值】双人餐，提供免费WiFi', 'price': 129.9, 'soldCounts': 4377}, {'title': '【海鲜锅】四人餐', 'price': 298, 'soldCounts': 2}], 'hasAds': False, 'adsClickUrl': '', 'adsShowUrl': ''}, {'poiId': 169092440, 'frontImg': 'https://img.meituan.net/msmerchant/d10da585cdc27bf691ff4e3376432e3c54356.jpg@600w_600h_1l', 'title': '牛莽莽老火锅（光谷店）', 'avgScore': 3.7, 'allCommentNum': 263, 'address': '洪山区雄庄路曙光星城C区207', 'avgPrice': 75, 'dealList': [{'title': '100元代金券1张，仅适用于菜品', 'price': 98, 'soldCounts': 0}, {'title': '超值双人套餐，提供免费WiFi', 'price': 138, 'soldCounts': 69}], 'hasAds': True, 'adsClickUrl': 'https://mlog.dianping.com/api/cpv/billing?ad_cj=tofSip3ZF2pJ2ZB0x7ziO_amk-1bwgnSk4R9q6Umgk8s1TbL3syEaN8c3hVg6n6N2SP2lSt1N5Li4rl8zb4J3Bmzp1_fB3ogwf9nSwpbhalWVZcMTbsECjbMmEoJbKbGFhVWuuCtcBZWPp210OlF64rbOxseX6RpUF-s8w9H_GNz4JKbi71C6GXFLndnoAw8E-qtEozhITCgtpjVb57ST2QBGK3xEIcFx8VPhcjpIgp6msWOLFuGs18_FqavNGNW_g8Op9H4HnuB3ndNXsV3msDWOyNhxze5Kj5AwmvkhbBVZxOvKERHK4qEmDzCU5kqNcuE53EgoGkdtLV-Sdiz6DD24wPfFy9peEHk8r0U839uIMeZVu0KcfFQmwqEZ7Uxjg&sver=2&ad_v=1&ad_ci=tofSip3Ly9YZ8c6IpH_zO3AIberUvOJ-ltS-tKjGrjSU3FVZtCrM35x7W6VLiuwECqF5qkli2u3rbRdi7uGCnN7qmrMyo2mGiBSSK7nKmd3p&act=2', 'adsShowUrl': 'https://mlog.dianping.com/api/cpv/action?ad_cj=tofSip3ZF2pJ2ZB0x7ziO_amk-1bwgnSk4R9q6Umgk8s1TbL3syEaN8c3hVg6n6N2SP2lSt1N5Li4rl8zb4J3Bmzp1_fB3ogwf9nSwpbhalWVZcMTbsECjbMmEoJbKbGFhVWuuCtcBZWPp210OlF64rbOxseX6RpUF-s8w9H_GNz4JKbi71C6GXFLndnoAw8E-qtEozhITCgtpjVb57ST2QBGK3xEIcFx8VPhcjpIgp6msWOLFuGs18_FqavNGNW_g8Op9H4HnuB3ndNXsV3msDWOyNhxze5Kj5AwmvkhbBVZxOvKERHK4qEmDzCU5kqNcuE53EgoGkdtLV-Sdiz6DD24wPfFy9peEHk8r0U839uIMeZVu0KcfFQmwqEZ7Uxjg&sver=2&ad_v=1&ad_ci=tofSip3Ly9YZ8c6IpH_zO3AIberUvOJ-ltS-tKjGrjSU3FVZtCrM35x7W6VLiuwECqF5qkli2u3rbRdi7uGCnN7qmrMyo2mGiBSSK7nKmd3p&act=3'}, {'poiId': 6379458, 'frontImg': 'http://p1.meituan.net/600.600/bbia/7f0667b9f9a967a6c392549140076a4c147223.jpg', 'title': '米兰西饼生日蛋糕（佳源花都商业街店）', 'avgScore': 4.8, 'allCommentNum': 3418, 'address': '洪山区湖北第二师范学院佳源花都商业街中间A-13号铺（晨光文具旁，光谷金融港附近）', 'avgPrice': 29, 'dealList': [{'title': '蛋糕4选1', 'price': 89, 'soldCounts': 2319}, {'title': '蛋糕12选1,约10英寸，圆形', 'price': 98, 'soldCounts': 2418}, {'title': '星座蛋糕 约8英寸 免费配送', 'price': 85, 'soldCounts': 125}, {'title': '蛋糕5选1,约30英寸，圆形', 'price': 299, 'soldCounts': 77}, {'title': '蛋糕11选1,约12英寸，圆形', 'price': 129, 'soldCounts': 15868}, {'title': '食尚混搭：12英寸许愿池蛋糕，每一种口味每一个愿望，新鲜现做如你所愿1个，约12英寸，任选1', 'price': 198, 'soldCounts': 1607}, {'title': '大双层蛋糕：24英寸（14+10英寸）传递快乐，分享幸福1个，约24英寸，任选1', 'price': 235, 'soldCounts': 2978}, {'title': '玫瑰鲜花蛋糕：10英寸玫瑰鲜花蛋糕，爱就要表达出来，传情达意爱你所爱1个，约10英寸，圆形', 'price': 139.9, 'soldCounts': 1167}, {'title': '食尚混搭：8英寸许愿池蛋糕，每一种口味每一个愿望，新鲜现做如你所愿1个，约8英寸，圆形', 'price': 118, 'soldCounts': 4956}, {'title': '蛋糕8选1,约10英寸，圆形', 'price': 118, 'soldCounts': 4250}, {'title': '20英寸（12+8英寸双层）卡通，水果双层蛋糕，新鲜现做分享快乐传递幸福1个，约20英寸，圆形', 'price': 185, 'soldCounts': 8175}, {'title': '星选好店：（8+6英寸）网红双层畅销款蛋糕，新鲜现做，爱你所爱1个，约14英寸，圆形', 'price': 159, 'soldCounts': 13659}, {'title': '蛋糕12选1,约8英寸，圆形', 'price': 98, 'soldCounts': 4676}, {'title': '店长推荐：8英寸法式慕斯蛋糕，匠心手作进口鲜奶明星款蛋糕，让味蕾带你去米兰1个，约8英寸，方形', 'price': 108, 'soldCounts': 30796}, {'title': '食尚混搭：10英寸许愿池蛋糕，每一种口味每一个愿望，新鲜现做如你所愿1个，约10英寸，任选1', 'price': 148, 'soldCounts': 4656}, {'title': '蛋糕12选1,约8英寸', 'price': 89, 'soldCounts': 46451}, {'title': '蛋糕4选1,约8英寸，圆形', 'price': 198.5, 'soldCounts': 1062}, {'title': '蛋糕13选1,约18英寸，圆形', 'price': 199, 'soldCounts': 4689}, {'title': '米兰时光下午茶甜点摆台，公司会议，生日宴会，开业庆典等1个，约1套，三层', 'price': 168, 'soldCounts': 524}, {'title': '精选系列：6英寸精致手工蛋糕，让美味更食尚1个，约6英寸，圆形', 'price': 88, 'soldCounts': 3684}, {'title': '蛋糕11选1,约10英寸，圆形', 'price': 109, 'soldCounts': 9580}, {'title': '三层蛋糕（14+10+6英寸）生日会，公司下午茶，开业 KTV 分享这一刻1个，约30英寸，圆形', 'price': 346, 'soldCounts': 1749}, {'title': '蛋糕8选1,约8英寸，圆形', 'price': 143, 'soldCounts': 1949}, {'title': '蛋糕22选1,约8英寸，圆形', 'price': 129, 'soldCounts': 12390}, {'title': '精致分享款：一磅蛋糕，严选食材新鲜现做，精致只是她的外表，美味才是她的内涵1个，约1磅，圆形', 'price': 78, 'soldCounts': 9698}, {'title': '食尚米兰：网红蛋糕发布会，大吉大利今晚吃鸡，造梦者等1个，约8英寸，任选1', 'price': 158, 'soldCounts': 2493}, {'title': '蛋糕8选1,约16英寸，圆形', 'price': 148, 'soldCounts': 18361}, {'title': '蛋糕4选1,约10英寸，方形', 'price': 136, 'soldCounts': 6801}, {'title': '祝寿蛋糕：12+8英寸双层寿星蛋糕，您陪我长大，我陪您变老1个，约20英寸，圆形', 'price': 228, 'soldCounts': 1607}, {'title': '蛋糕4选1', 'price': 112, 'soldCounts': 1940}, {'title': '蛋糕4选1,约8英寸，圆形', 'price': 95, 'soldCounts': 3739}, {'title': '蛋糕7选1,约8英寸，圆形', 'price': 97, 'soldCounts': 7211}, {'title': '蛋糕9选1,约10英寸，圆形', 'price': 149, 'soldCounts': 2316}], 'hasAds': False, 'adsClickUrl': '', 'adsShowUrl': ''}, {'poiId': 42788407, 'frontImg': 'https://img.meituan.net/600.600/msmerchant/4767b4fdd1c9f32f5c7165573b186705767958.png', 'title': '鑫小城故事（光谷店）', 'avgScore': 5, 'allCommentNum': 11137, 'address': '洪山区珞雄路光谷意大利风情街3号楼4楼', 'avgPrice': 41, 'dealList': [{'title': '2-3人餐，提供免费WiFi', 'price': 88, 'soldCounts': 83151}, {'title': '6人套餐', 'price': 158, 'soldCounts': 6155}, {'title': '50元代金券1张，可叠加', 'price': 46, 'soldCounts': 51756}], 'hasAds': False, 'adsClickUrl': '', 'adsShowUrl': ''}, {'poiId': 1691705473, 'frontImg': 'https://img.meituan.net/600.600/msmerchant/def3417597fa4ec1f9da0916b8f873e0786468.jpg', 'title': '枝头春·川香青椒兔（光谷步行街店）', 'avgScore': 5, 'allCommentNum': 24, 'address': '洪山区洪山区光谷街中影天河国际影城旁上四楼火星美食街D005号商铺（卿口海鲜小馆对面）（中影国际楼上）', 'avgPrice': 58, 'dealList': [{'title': '套餐，建议2-3人使用', 'price': 119, 'soldCounts': 141}, {'title': '3至4人套餐，提供免费WiFi', 'price': 159, 'soldCounts': 2}, {'title': '双人套餐，提供免费WiFi', 'price': 89, 'soldCounts': 14}, {'title': '100元代金券1张，可叠加', 'price': 90, 'soldCounts': 46}], 'hasAds': True, 'adsClickUrl': 'https://mlog.dianping.com/api/cpv/billing?ad_cj=7BIksDhrcl7kc4ViRjC1wEpoAJb6F_phRR5fgNqsNOxGiHs6masWqgbpiExNRfNizMDrJ7smlbvrveEiI5xKQAyWQ0UAs2_yvyaptf6keDSLvCE95Bl0hGxKBpze1wcQ4_COJQC4pnXZ-4Hl7U0wNiImJv4wSLuvx2-2ns6OhrOC-HeG5tMsWbYLTTp9nmuDUZaWkAlGv-0drFfpzJidHleupvc5czWXeO-cHsjUzcrDAYYdSaogbJz1_wEbj43N3BfFxlDN28R-AgjjNPLNYZcQWiYgOWH8V-LncQBaExqu7J4lpMX6A_o4bPemJw1-LTgBH_vHhOh5_9B1ISdaWEwOyStlvz6dF0iFSJGGEpNm17xEur5WxO9zNmV2Olp0Fw&sver=2&ad_v=1&ad_ci=7BIksDh5ruK0W5vkJXK13AqxckuFCBNT2Fcaqcsdoa0l532xYcCaHlkwrcZabEym1a--jdQcLk7pl_TK3EhHVMe_6SIUC-7piPHdZYk2w9fg8Q&act=2', 'adsShowUrl': 'https://mlog.dianping.com/api/cpv/action?ad_cj=7BIksDhrcl7kc4ViRjC1wEpoAJb6F_phRR5fgNqsNOxGiHs6masWqgbpiExNRfNizMDrJ7smlbvrveEiI5xKQAyWQ0UAs2_yvyaptf6keDSLvCE95Bl0hGxKBpze1wcQ4_COJQC4pnXZ-4Hl7U0wNiImJv4wSLuvx2-2ns6OhrOC-HeG5tMsWbYLTTp9nmuDUZaWkAlGv-0drFfpzJidHleupvc5czWXeO-cHsjUzcrDAYYdSaogbJz1_wEbj43N3BfFxlDN28R-AgjjNPLNYZcQWiYgOWH8V-LncQBaExqu7J4lpMX6A_o4bPemJw1-LTgBH_vHhOh5_9B1ISdaWEwOyStlvz6dF0iFSJGGEpNm17xEur5WxO9zNmV2Olp0Fw&sver=2&ad_v=1&ad_ci=7BIksDh5ruK0W5vkJXK13AqxckuFCBNT2Fcaqcsdoa0l532xYcCaHlkwrcZabEym1a--jdQcLk7pl_TK3EhHVMe_6SIUC-7piPHdZYk2w9fg8Q&act=3'}, {'poiId': 42328037, 'frontImg': 'https://img.meituan.net/600.600/msmerchant/c80897e2adbd8c5f692f1f7239ff04901183994.jpg', 'title': '森燊记烤鱼吧（光谷店）', 'avgScore': 5, 'allCommentNum': 12100, 'address': '洪山区光谷步行街一期MVP活力客5楼（大洋百货后门）', 'avgPrice': 50, 'dealList': [{'title': '超值明星套餐，建议2-3人使用', 'price': 89, 'soldCounts': 20793}, {'title': '美味烤鱼，建议3-4人使用', 'price': 129, 'soldCounts': 2119}, {'title': '100元代金券1张，可叠加2张', 'price': 68, 'soldCounts': 1144}, {'title': '美味烤鱼，建议3-4人使用', 'price': 148, 'soldCounts': 1625}, {'title': '晚市2-3人餐，提供免费WiFi', 'price': 119.9, 'soldCounts': 14016}, {'title': '午市2-3人餐，提供免费WiFi', 'price': 99.9, 'soldCounts': 3250}, {'title': '美味烤鱼，建议3-4人使用', 'price': 119.9, 'soldCounts': 8170}], 'hasAds': False, 'adsClickUrl': '', 'adsShowUrl': ''}, {'poiId': 5852222, 'frontImg': 'https://img.meituan.net/600.600/msmerchant/decf4290fb9f700578ffb35e21725577693056.jpg', 'title': '韩宫宴炭火烤肉（鲁巷广场购物中心店）', 'avgScore': 5, 'allCommentNum': 3505, 'address': '洪山区珞喻路726号鲁巷广场购物中心6层（光谷国际广场对面地铁2号线光谷广场站F出口）', 'avgPrice': 65, 'dealList': [{'title': '优选烤肉套餐，建议3-4人使用', 'price': 179, 'soldCounts': 2793}, {'title': '100元代金券1张，可叠加', 'price': 92, 'soldCounts': 238377}], 'hasAds': False, 'adsClickUrl': '', 'adsShowUrl': ''}, {'poiId': 193004502, 'frontImg': 'https://img.meituan.net/msmerchant/2446caed472088ecf852e3e1f8409bb7543304.jpg@600w_600h_1l', 'title': '乐乐龙虾•火锅（光谷青年城店）', 'avgScore': 5, 'allCommentNum': 88, 'address': '洪山区雄庄路光谷青年城9栋', 'avgPrice': 64, 'dealList': [{'title': '经典2斤虾蟹双人套餐', 'price': 138, 'soldCounts': 299}, {'title': '香辣蟹，建议2人使用', 'price': 68, 'soldCounts': 0}, {'title': '100元代金券1张，可叠加3张', 'price': 69, 'soldCounts': 191}, {'title': '超值双人餐，提供免费WiFi', 'price': 68, 'soldCounts': 111}, {'title': '3人餐，提供免费WiFi', 'price': 88, 'soldCounts': 24}], 'hasAds': True, 'adsClickUrl': 'https://mlog.dianping.com/api/cpv/billing?ad_cj=JzOyrb5zeGxfDPBFi19K1xPz3qxpVij8P7xDg06_I8-vzXsp2dfXw2gk4iwDWJz0-YwKiw0qg5k60SIZ-41zROwP5cS3NevlL9fqTR7xt1sPjJ2lNF6DI9cTKO-GDsRiLmru-mDanQAwv6KA9aCKRHXOkHNm9qhySmK9UMQOYGjQxceesKhZGJRQhxkZmjHC6Ygr8pftaS41ysmQwJ7Sr74D92_yxXtF_E70PIRTIY7Uda1k69drhrfTFgcr04vq9QhyQUxx0Xga7DzTjJboDGOq2K2Gemz0j1Iw7oywpRVcS8sBpOnXF9U31s2-plBauCXvZK9C5DchntBq2LIZC0E63gE2dFZJZmYchKqOxQFOCHDumXxgarn_K2r2Qj6jrFlj&sver=2&ad_v=1&ad_ci=JzOyrb5hpNAPJK65yFxKy5VdYOvhovjEhO8pD-4Xzpn5J-Gs1uzn5RFdTL5ipSWbt0Fio7cL-cbW1gvYkDBmFL79U1Djg9WLTszCHUVhF2ig&act=2', 'adsShowUrl': 'https://mlog.dianping.com/api/cpv/action?ad_cj=JzOyrb5zeGxfDPBFi19K1xPz3qxpVij8P7xDg06_I8-vzXsp2dfXw2gk4iwDWJz0-YwKiw0qg5k60SIZ-41zROwP5cS3NevlL9fqTR7xt1sPjJ2lNF6DI9cTKO-GDsRiLmru-mDanQAwv6KA9aCKRHXOkHNm9qhySmK9UMQOYGjQxceesKhZGJRQhxkZmjHC6Ygr8pftaS41ysmQwJ7Sr74D92_yxXtF_E70PIRTIY7Uda1k69drhrfTFgcr04vq9QhyQUxx0Xga7DzTjJboDGOq2K2Gemz0j1Iw7oywpRVcS8sBpOnXF9U31s2-plBauCXvZK9C5DchntBq2LIZC0E63gE2dFZJZmYchKqOxQFOCHDumXxgarn_K2r2Qj6jrFlj&sver=2&ad_v=1&ad_ci=JzOyrb5hpNAPJK65yFxKy5VdYOvhovjEhO8pD-4Xzpn5J-Gs1uzn5RFdTL5ipSWbt0Fio7cL-cbW1gvYkDBmFL79U1Djg9WLTszCHUVhF2ig&act=3'}, {'poiId': 5554797, 'frontImg': 'http://p0.meituan.net/600.600/bbia/8b49a8115ccc1042b7f3a52f759b79fa74928.jpg', 'title': '亮亮烧烤（光谷软件园店）', 'avgScore': 5, 'allCommentNum': 14848, 'address': '洪山区关山大道与软件园路交叉口西南角中建康城西区底商', 'avgPrice': 52, 'dealList': [{'title': '100元代金券1张，可叠加', 'price': 95, 'soldCounts': 77537}, {'title': '100元代金券1张，可叠加', 'price': 95, 'soldCounts': 30357}, {'title': '秘制烤鱼双人套餐街道口店', 'price': 69, 'soldCounts': 157}], 'hasAds': False, 'adsClickUrl': '', 'adsShowUrl': ''}, {'poiId': 42603017, 'frontImg': 'https://img.meituan.net/600.600/msmerchant/9f73409090ca4bdd1bebc02be2c813af689188.jpg', 'title': '江小八章鱼小丸子（火星美食街总店）', 'avgScore': 5, 'allCommentNum': 3349, 'address': '洪山区珞喻路光谷步行街一期4楼', 'avgPrice': 12, 'dealList': [{'title': '口味9选2，提供免费WiFi', 'price': 15.6, 'soldCounts': 2084}, {'title': '20元代金券1张，可叠加', 'price': 12.9, 'soldCounts': 1004}], 'hasAds': False, 'adsClickUrl': '', 'adsShowUrl': ''}, {'poiId': 180575305, 'frontImg': 'https://p0.meituan.net/bbia/9d8ed96065fe1642fd3ec32c4e3b9dcf548674.png@600w_600h_1l', 'title': '巷林烤肉（雄楚一号店）', 'avgScore': 4.5, 'allCommentNum': 444, 'address': '洪山区雄楚大道金地雄楚1号商业街1楼大圆圈（百汇井商业街一楼）', 'avgPrice': 68, 'dealList': [{'title': '烤肉双人餐，提供免费WiFi', 'price': 98, 'soldCounts': 4310}, {'title': '聚会欢享套餐，建议3-4人使用', 'price': 188, 'soldCounts': 1633}], 'hasAds': True, 'adsClickUrl': 'https://mlog.dianping.com/api/cpv/billing?ad_cj=jQvczR3i8lzuBC9A0-5AjrYQkmEZDER3AgtTgO8fj2rq_DFEzn3qTMQT2noBbxXoB5nNDV2C3AD9u6xutJA_qX_ZMd7pZb8C1QidCBMdknXqYy0Ms7HtoJaDG3vMdK24TxdXvKvMkJ6GOvhQ1NlbwEJ93aYH1FChUKgqBoiR82Iu3h7AKpgPcJBevKeou-cMkNzWLLO8JjjuLgQrUAhsFa-PVcSNTECbBQXWkrY4g1Cs4kvk_NNHyOPQULGX-XtOilZq62bUzz9FfkYor9FFbHREOfXd_jvKL6hBPqz-95E-S_BKkAJ0h9AyQ36Ig6reY-Bv5ULSxtSZXnbNvO6nP3FooBlOY8C42Cs3keEfDfKu0-r--lJ5ZEV359qCTYNmcck&sver=2&ad_v=1&ad_ci=jQvczR3wLuC-LHFKkO1QjjQemjSnGffY062I8OWeOEOyBniT1-drUCPBixFatZKv_d44zbHQylayHwW3yN017538JF2S1SU5KMcOqdnYhYlC&act=2', 'adsShowUrl': 'https://mlog.dianping.com/api/cpv/action?ad_cj=jQvczR3i8lzuBC9A0-5AjrYQkmEZDER3AgtTgO8fj2rq_DFEzn3qTMQT2noBbxXoB5nNDV2C3AD9u6xutJA_qX_ZMd7pZb8C1QidCBMdknXqYy0Ms7HtoJaDG3vMdK24TxdXvKvMkJ6GOvhQ1NlbwEJ93aYH1FChUKgqBoiR82Iu3h7AKpgPcJBevKeou-cMkNzWLLO8JjjuLgQrUAhsFa-PVcSNTECbBQXWkrY4g1Cs4kvk_NNHyOPQULGX-XtOilZq62bUzz9FfkYor9FFbHREOfXd_jvKL6hBPqz-95E-S_BKkAJ0h9AyQ36Ig6reY-Bv5ULSxtSZXnbNvO6nP3FooBlOY8C42Cs3keEfDfKu0-r--lJ5ZEV359qCTYNmcck&sver=2&ad_v=1&ad_ci=jQvczR3wLuC-LHFKkO1QjjQemjSnGffY062I8OWeOEOyBniT1-drUCPBixFatZKv_d44zbHQylayHwW3yN017538JF2S1SU5KMcOqdnYhYlC&act=3'}, {'poiId': 1898174, 'frontImg': 'http://p0.meituan.net/600.600/bbia/f6afd98ad0b0e5890ea3e3ded2332eb9184550.jpg', 'title': '尊宝比萨（光谷银座店）', 'avgScore': 4.5, 'allCommentNum': 5878, 'address': '洪山区珞喻路鲁巷光谷银座新都汇底层商铺（紫菘花园南门对面）', 'avgPrice': 28, 'dealList': [{'title': '精彩双人餐', 'price': 69, 'soldCounts': 3314}, {'title': '精彩单人餐', 'price': 25, 'soldCounts': 10862}, {'title': '超多榴莲双人餐', 'price': 86, 'soldCounts': 980}, {'title': '水果什锦比萨（10英寸）1份', 'price': 40, 'soldCounts': 5972}, {'title': '超值双人餐', 'price': 62, 'soldCounts': 6962}, {'title': '欢乐家庭餐，建议3人使用', 'price': 92, 'soldCounts': 1510}, {'title': '苏丹王黄金果肉榴莲比萨(10英寸)1份', 'price': 56, 'soldCounts': 6542}, {'title': '茄汁肉丸意大利面1份', 'price': 18, 'soldCounts': 222}, {'title': '黄金蝴蝶虾1份', 'price': 11.5, 'soldCounts': 10758}, {'title': '芝士焗榴莲1份', 'price': 28, 'soldCounts': 3126}, {'title': '超值单人餐', 'price': 43, 'soldCounts': 8708}, {'title': '水果什锦比萨（10英寸）1份', 'price': 40, 'soldCounts': 2964}], 'hasAds': False, 'adsClickUrl': '', 'adsShowUrl': ''}, {'poiId': 52735081, 'frontImg': 'http://p1.meituan.net/600.600/mogu/a6a885ee505e9e5b36c7ff9bb116332f234024.jpg', 'title': '项姐烤猪蹄（澳门美食街）', 'avgScore': 4.5, 'allCommentNum': 4510, 'address': '洪山区光谷步行街1期3楼澳门街美食城内B013', 'avgPrice': 10, 'dealList': [{'title': '猪蹄1份，提供免费WiFi', 'price': 12.99, 'soldCounts': 16840}], 'hasAds': False, 'adsClickUrl': '', 'adsShowUrl': ''}]}}\n"
     ]
    }
   ],
   "source": [
    "import requests\n",
    "from bs4 import BeautifulSoup\n",
    "import json\n",
    "import math\n",
    "import pandas as pd\n",
    "import os\n",
    "import uuid\n",
    " \n",
    "def get_shop_page_response(page_num)\n",
    "    simulateChromeBrowserData = {\n",
    "        'Accept':'*/*',\n",
    "        'Accept-Encoding':'gzip, deflate',\n",
    "        'Accept-Language':'zh-CN,zh;q=0.8',\n",
    "        'Connection':'keep-alive',\n",
    "        'Host':'sz.meituan.com',\n",
    "        'Referer':'http://wh.meituan.com/meishi/',\n",
    "        # 'Cookie': '_lxsdk_cuid=16212a00d8ec8-07cdb6596bad8e-178123e-1fa400-16212a00d8fc8; lat=22.780886; lng=113.906362; client-id=34908f62-ea11-4211-b60a-f62c32288b2e; uuid=9be4f96971ac4c9cab4c.1520730903.1.0.0; webloc_geo=22.527181%2C113.938582%2Cwgs84; ci=30; _lxsdk=16212a1cddfc8-011369480302e7-178123e-1fa400-16212a1cddfc8; __mta=247430459.1520730902128.1520731016684.1520731025187.5; _lxsdk_s=16212a00d8f-c83-6e-376%7C%7C9',\n",
    "        'User-Agent':'Mozilla/5.0 (Windows NT 10.0; Win64; x64) AppleWebKit/537.36 (KHTML, like Gecko) Chrome/76.0.3809.100 Safari/537.36'\n",
    "    }\n",
    "\n",
    "    purl='https://wh.meituan.com/meishi/api/poi/getPoiList'\n",
    "    # token='eJxFj81uozAURl8lOxZEMQZi4kpdBIZRoGkJAdyWahY4QIAEwj9Jq3n3wUSdLiyde3w/6btfXG2E3MMMCgIWhPmM66N6HDm4EBaIG+e2Yb9LhGWEsShhKI3y8GMVQfi2tCa/Rv2hIGU+EyX5z+T2TH3ApYTmsxVi8nuYNkSZvWnVYJtc0rZl8wDAkCzyKG27oFgcLjkYuUlSQMeiCLBiHMvk7pSRBHkOIWb6juiOaET5jqsR4ZQ5TRlGwX9qf9wzO59lmvRYMI7MIcxcaK0/dTuJeGeoCDjnjptFtlZ6phaq12Ojxb7+2ir+O1Ytz+jsU6yWb4alVrWEogLTp3W609/6WoVkrftJNWyv2PYcvu8lCKSiTLfnbEe8qPM3y/TiExLk8KUr96Zzeyq97vwb1HIe5+1efOH9K7Q7w3p9j5xso9Eb/cSbfQ6HE6mMkpzFbZsQa2ykyTAlYtm7IFNvilYTV6yyeBXzYnhpQW/ykbje6faQ0GH3vLGC+kBLOUwOjXUsKA1oIauNCk1gPz5yf/8Bg1GdFg=='\n",
    "\n",
    "    puuid=uuid.uuid1()\n",
    "    params={'cityName':'武汉',\n",
    "        'cateId':0,\n",
    "            'areaId':1006,\n",
    "            'sort':'',\n",
    "            'cityName': '武汉',\n",
    "            'dinnerCountAttrId': '',\n",
    "            'page': int(page_num),\n",
    "            'uuid': puuid,\n",
    "            'userId': 0,\n",
    "            'platform': 1,\n",
    "            'partner': 126,\n",
    "            'originUrl': 'https://wh.meituan.com/meishi/b1006/',\n",
    "            'riskLevel': 1,\n",
    "            'optimusCode': 10,\n",
    "            '_token': token\n",
    "           }\n",
    "    page = requests.get(purl,params=params,headers=simulateChromeBrowserData)\n",
    "    return page"
   ]
  },
  {
   "cell_type": "raw",
   "metadata": {},
   "source": []
  },
  {
   "cell_type": "code",
   "execution_count": 5,
   "metadata": {},
   "outputs": [
    {
     "name": "stdout",
     "output_type": "stream",
     "text": [
      "       shopId            shopName  allCommentNum\n",
      "0   163479631   一百根小肫肝火锅串串（光谷旗舰店）           1174\n",
      "0       74779        秀玉红茶坊（光谷二期店）          26303\n",
      "0     2464754          捞旺猪肚鸡（光谷店）          19520\n",
      "0   169092440         牛莽莽老火锅（光谷店）            263\n",
      "0     6379458  米兰西饼生日蛋糕（佳源花都商业街店）           3418\n",
      "0    42788407          鑫小城故事（光谷店）          11137\n",
      "0  1691705473   枝头春·川香青椒兔（光谷步行街店）             24\n",
      "0    42328037         森燊记烤鱼吧（光谷店）          12100\n",
      "0     5852222  韩宫宴炭火烤肉（鲁巷广场购物中心店）           3505\n",
      "0   193004502     乐乐龙虾•火锅（光谷青年城店）             88\n",
      "0     5554797        亮亮烧烤（光谷软件园店）          14848\n",
      "0    42603017   江小八章鱼小丸子（火星美食街总店）           3349\n",
      "0   180575305         巷林烤肉（雄楚一号店）            444\n",
      "0     1898174         尊宝比萨（光谷银座店）           5878\n",
      "0    52735081        项姐烤猪蹄（澳门美食街）           4510\n"
     ]
    }
   ],
   "source": [
    "# 解析POI店铺第一页的JSON返回结果,获得一共有多少页店铺页面\\\n",
    "def get_shop_pages(poi_Shops_Json):\n",
    "    data = json.loads(poi_Shops_Json)\n",
    "    if 'data' in data.keys():\n",
    "        if 'totalCounts' in data.get('data'):\n",
    "            shopCounts = data.get('data').get('totalCounts')\n",
    "            # 美图一页是展示32个商铺\n",
    "            pageNum = math.ceil(shopCounts/32)\n",
    "            return pageNum\n",
    "        else:\n",
    "            return 1\n",
    "    return 1\n",
    "# 解析每一页店铺的页面信息以及店铺的POI\n",
    "def parse_POI_Shop_Json(shop_json):\n",
    "    one_page_data = pd.DataFrame()\n",
    "    if 'data'in shop_json:\n",
    "        for eachShopInfo in shop_json.get('data').get('poiInfos'):\n",
    "            shopId = eachShopInfo.get('poiId')\n",
    "            shopName = eachShopInfo.get('title')\n",
    "            allCommentNum = eachShopInfo.get('allCommentNum')\n",
    "            one_page_data = one_page_data.append(pd.DataFrame({'shopId':[shopId],'shopName':[shopName],'allCommentNum':[allCommentNum]}))\n",
    "    return one_page_data"
   ]
  },
  {
   "cell_type": "code",
   "execution_count": null,
   "metadata": {},
   "outputs": [],
   "source": [
    "poiShopData = pd.DataFrame()\n",
    "for i in range(10):\n",
    "    page=get_shop_page_response(i+1)\n",
    "    page_shop_json=json.loads(str(page.text))\n",
    "    onePageData = parse_POI_Shop_Json(page_shop_json)\n",
    "    poiShopData = poiShopData.append(onePageData)\n",
    "print(poiShopData)"
   ]
  }
 ],
 "metadata": {
  "kernelspec": {
   "display_name": "Python 3",
   "language": "python",
   "name": "python3"
  },
  "language_info": {
   "codemirror_mode": {
    "name": "ipython",
    "version": 3
   },
   "file_extension": ".py",
   "mimetype": "text/x-python",
   "name": "python",
   "nbconvert_exporter": "python",
   "pygments_lexer": "ipython3",
   "version": "3.7.3"
  }
 },
 "nbformat": 4,
 "nbformat_minor": 2
}
